{
 "cells": [
  {
   "cell_type": "markdown",
   "metadata": {},
   "source": [
    "# База данных"
   ]
  },
  {
   "cell_type": "code",
   "execution_count": 1,
   "metadata": {},
   "outputs": [],
   "source": [
    "import os\n",
    "import sqlite3"
   ]
  },
  {
   "cell_type": "code",
   "execution_count": 2,
   "metadata": {},
   "outputs": [],
   "source": [
    "def connect(dbfile):\n",
    "    conn = sqlite3.connect(dbfile)\n",
    "    c = conn.cursor()\n",
    "    return c, conn"
   ]
  },
  {
   "cell_type": "code",
   "execution_count": 3,
   "metadata": {},
   "outputs": [],
   "source": [
    "def create_db():\n",
    "    dbfile = input('Type the name of the database to create (without a filename extension): ') + '.db'\n",
    "    has_db = os.path.exists(dbfile)\n",
    "    if has_db: \n",
    "        print('The database with this name has already existed.')\n",
    "        return create_db()\n",
    "    c, conn = connect(dbfile)\n",
    "    print('The database \"{}\" is created successfully.'.format(dbfile))\n",
    "    c.close()"
   ]
  },
  {
   "cell_type": "code",
   "execution_count": 4,
   "metadata": {},
   "outputs": [],
   "source": [
    "# create_db()"
   ]
  },
  {
   "cell_type": "code",
   "execution_count": 5,
   "metadata": {},
   "outputs": [],
   "source": [
    "def create_table():\n",
    "    dbfile = input('Type the name of the database where you want to create a table\\\n",
    "    (without filename extension): ') + '.db'\n",
    "    if not os.path.isfile(dbfile):\n",
    "        print('This database does not exist. Try once again')\n",
    "        create_table()\n",
    "    else:\n",
    "        c, conn = connect(dbfile)\n",
    "        table_name = input('Type the name of the table to create: ').upper()\n",
    "        columns = input('Type the names of the columns and their types as in the EXAMPLE:\\\n",
    "        \\n\"name1 text, name2 text, name3 integer\"\\n') \n",
    "        c.execute('CREATE TABLE {} (generated_id INTEGER PRIMARY KEY, {})'.format(table_name, columns))\n",
    "        print('The table \"{}\" in the database \"{}\" is created successfully.'.format(table_name, dbfile))\n",
    "        conn.commit()\n",
    "        conn.close()"
   ]
  },
  {
   "cell_type": "code",
   "execution_count": 6,
   "metadata": {},
   "outputs": [
    {
     "name": "stdout",
     "output_type": "stream",
     "text": [
      "Type the name of the database where you want to create a table    (without filename extension): essays\n",
      "This database does not exist. Try once again\n",
      "Type the name of the database where you want to create a table    (without filename extension): realec\n",
      "Type the name of the table to create: main\n",
      "Type the names of the columns and their types as in the EXAMPLE:        \n",
      "\"name1 text, name2 text, name3 integer\"\n",
      "name text, text text, mark integer, type integer\n",
      "The table \"MAIN\" in the database \"realec.db\" is created successfully.\n"
     ]
    }
   ],
   "source": [
    "# create_table()\n",
    "# c, conn = connect('realec.db')\n",
    "# sql = 'DROP TABLE EXPERIMENT_1'\n",
    "# c.execute(sql)\n",
    "# conn.commit()\n",
    "# conn.close()"
   ]
  },
  {
   "cell_type": "code",
   "execution_count": 7,
   "metadata": {},
   "outputs": [],
   "source": [
    "def fill_table_MAIN(dbfile, name, text, mark, _type):\n",
    "    c, conn = connect(dbfile)\n",
    "    info = [[name, text, mark, _type]]\n",
    "    c.executemany('''INSERT INTO MAIN (generated_id, name, text, mark, type) VALUES (null, ?, ?, ?, ?)''', info)\n",
    "    conn.commit()\n",
    "    conn.close()\n",
    "    # print('Information is filled successfully.')"
   ]
  },
  {
   "cell_type": "code",
   "execution_count": 8,
   "metadata": {},
   "outputs": [],
   "source": [
    "# fill_table_MAIN('realec.db', 'test2.txt', 'This is an example', 50, 2)"
   ]
  },
  {
   "cell_type": "code",
   "execution_count": 10,
   "metadata": {},
   "outputs": [
    {
     "name": "stdout",
     "output_type": "stream",
     "text": [
      "[]\n"
     ]
    }
   ],
   "source": [
    "c, conn = connect('realec.db')\n",
    "c.execute(\"SELECT generated_id, text, type FROM MAIN WHERE MAIN.mark == 80\")\n",
    "result = [info for info in c.fetchall()]\n",
    "print(result)"
   ]
  },
  {
   "cell_type": "code",
   "execution_count": 11,
   "metadata": {},
   "outputs": [],
   "source": [
    "def delete_one(dbfile, _id):\n",
    "    c, conn = connect(dbfile)\n",
    "    sql = 'DELETE FROM MAIN WHERE generated_id=?'\n",
    "    c.execute(sql, (_id,))"
   ]
  },
  {
   "cell_type": "code",
   "execution_count": 12,
   "metadata": {},
   "outputs": [],
   "source": [
    "# delete_one('realec.db', 1)"
   ]
  },
  {
   "cell_type": "code",
   "execution_count": 13,
   "metadata": {},
   "outputs": [],
   "source": [
    "def delete_all_raws(dbfile):\n",
    "    c, conn = connect(dbfile)\n",
    "    sql = 'DELETE FROM MAIN'\n",
    "    c.execute(sql)\n",
    "    conn.commit()\n",
    "    conn.close()"
   ]
  },
  {
   "cell_type": "code",
   "execution_count": 14,
   "metadata": {},
   "outputs": [],
   "source": [
    "# delete_all_raws('realec.db')"
   ]
  },
  {
   "cell_type": "markdown",
   "metadata": {},
   "source": [
    "# Добавление в базу"
   ]
  },
  {
   "cell_type": "code",
   "execution_count": 15,
   "metadata": {},
   "outputs": [],
   "source": [
    "import os\n",
    "from tqdm import tqdm_notebook as tqdm\n",
    "import json\n",
    "import re"
   ]
  },
  {
   "cell_type": "code",
   "execution_count": 16,
   "metadata": {},
   "outputs": [],
   "source": [
    "def clean_mark(mark):\n",
    "    mark = str(mark).replace('(overall)', '').strip()\n",
    "    mark = str(mark).replace(',', '.').strip()\n",
    "    mark = str(mark).replace('%', '').strip()\n",
    "    if float(mark) < 10:\n",
    "        mark = str(mark).replace('.', '')\n",
    "        mark = str(mark).replace('.', '')\n",
    "    if float(mark) > 10:\n",
    "        mark = float(mark)\n",
    "    if int(mark) <= 10:\n",
    "        mark = int(mark) * 10\n",
    "    return int(mark)"
   ]
  },
  {
   "cell_type": "code",
   "execution_count": 17,
   "metadata": {},
   "outputs": [],
   "source": [
    "main_dir = './data/exam'\n",
    "os.remove('files_with_json.txt')\n",
    "with open('files_with_json.txt', 'a') as fw:\n",
    "    for root, dirs, files in os.walk(main_dir):\n",
    "        for name in files:\n",
    "            if '.json' in name and os.path.isfile(os.path.join(root, name)[:-5] + '.txt'):\n",
    "                full_path = os.path.join(root, name)\n",
    "                try:\n",
    "                    with open(full_path) as fj:\n",
    "                        data = json.load(fj)\n",
    "                        if 'mark' in data.keys() and data['mark'] != '':\n",
    "                            try:\n",
    "                                mark = data['mark']\n",
    "                                mark = clean_mark(mark)\n",
    "                                fw.write(os.path.join(root, name)[:-5] + '\\n')\n",
    "                            except:\n",
    "                                continue\n",
    "                except:\n",
    "                    continue"
   ]
  },
  {
   "cell_type": "code",
   "execution_count": 18,
   "metadata": {},
   "outputs": [
    {
     "name": "stdout",
     "output_type": "stream",
     "text": [
      "    3446\r\n"
     ]
    }
   ],
   "source": [
    "! wc -l < files_with_json.txt"
   ]
  },
  {
   "cell_type": "code",
   "execution_count": 19,
   "metadata": {},
   "outputs": [],
   "source": [
    "def clean_path(path):\n",
    "    path = path.replace('true', '')\n",
    "    path = path.replace('(full)', '')\n",
    "    return path"
   ]
  },
  {
   "cell_type": "code",
   "execution_count": 20,
   "metadata": {},
   "outputs": [
    {
     "data": {
      "application/vnd.jupyter.widget-view+json": {
       "model_id": "3bb539a829384e9a9d8cd313c084d0f2",
       "version_major": 2,
       "version_minor": 0
      },
      "text/plain": [
       "HBox(children=(IntProgress(value=1, bar_style='info', max=1), HTML(value='')))"
      ]
     },
     "metadata": {},
     "output_type": "display_data"
    },
    {
     "name": "stdout",
     "output_type": "stream",
     "text": [
      "\n"
     ]
    }
   ],
   "source": [
    "with open('files_with_json.txt', 'r') as fr:\n",
    "    for line, path in tqdm(enumerate(fr)):\n",
    "        path = path[:-1]\n",
    "        with open(path + '.json') as fj:\n",
    "            data = json.load(fj)\n",
    "        mark = data['mark']\n",
    "        mark = clean_mark(mark)\n",
    "        _type = re.search('_(.)$', clean_path(path)).group(1)\n",
    "        with open(path + '.txt', encoding='utf-8') as fj:\n",
    "            text = fj.read()\n",
    "        fill_table_MAIN('realec.db', path, text, mark, _type)"
   ]
  },
  {
   "cell_type": "markdown",
   "metadata": {},
   "source": [
    "# Распределение по оценкам"
   ]
  },
  {
   "cell_type": "code",
   "execution_count": 36,
   "metadata": {},
   "outputs": [
    {
     "name": "stdout",
     "output_type": "stream",
     "text": [
      "[(387,)]\n"
     ]
    }
   ],
   "source": [
    "c, conn = connect('realec.db')\n",
    "c.execute(\"SELECT COUNT(*) FROM MAIN WHERE MAIN.mark >= 70\")\n",
    "result = c.fetchall()\n",
    "print(result)"
   ]
  },
  {
   "cell_type": "code",
   "execution_count": 37,
   "metadata": {},
   "outputs": [
    {
     "name": "stdout",
     "output_type": "stream",
     "text": [
      "[(2097,)]\n"
     ]
    }
   ],
   "source": [
    "c, conn = connect('realec.db')\n",
    "c.execute(\"SELECT COUNT(*) FROM MAIN WHERE MAIN.mark < 70 AND MAIN.mark >= 60\")\n",
    "result = c.fetchall()\n",
    "print(result)"
   ]
  },
  {
   "cell_type": "code",
   "execution_count": 38,
   "metadata": {},
   "outputs": [
    {
     "name": "stdout",
     "output_type": "stream",
     "text": [
      "[(962,)]\n"
     ]
    }
   ],
   "source": [
    "c, conn = connect('realec.db')\n",
    "c.execute(\"SELECT COUNT(*) FROM MAIN WHERE MAIN.mark < 60\")\n",
    "result = c.fetchall()\n",
    "print(result)"
   ]
  },
  {
   "cell_type": "markdown",
   "metadata": {},
   "source": [
    "# Распределение по типам эссе"
   ]
  },
  {
   "cell_type": "code",
   "execution_count": 39,
   "metadata": {},
   "outputs": [
    {
     "name": "stdout",
     "output_type": "stream",
     "text": [
      "[(1703,)]\n"
     ]
    }
   ],
   "source": [
    "c, conn = connect('realec.db')\n",
    "c.execute(\"SELECT COUNT(*) FROM MAIN WHERE MAIN.type == 1\")\n",
    "result = c.fetchall()\n",
    "print(result)"
   ]
  },
  {
   "cell_type": "code",
   "execution_count": 40,
   "metadata": {},
   "outputs": [
    {
     "name": "stdout",
     "output_type": "stream",
     "text": [
      "[(1742,)]\n"
     ]
    }
   ],
   "source": [
    "c, conn = connect('realec.db')\n",
    "c.execute(\"SELECT COUNT(*) FROM MAIN WHERE MAIN.type == 2\")\n",
    "result = c.fetchall()\n",
    "print(result)"
   ]
  },
  {
   "cell_type": "markdown",
   "metadata": {},
   "source": [
    "# Все вместе"
   ]
  },
  {
   "cell_type": "code",
   "execution_count": 43,
   "metadata": {},
   "outputs": [
    {
     "name": "stdout",
     "output_type": "stream",
     "text": [
      "[(184,)]\n",
      "[(203,)]\n"
     ]
    }
   ],
   "source": [
    "c, conn = connect('realec.db')\n",
    "c.execute(\"SELECT COUNT(*) FROM MAIN WHERE MAIN.mark < 70 AND MAIN.mark >= 60 AND MAIN.type == 1\")\n",
    "result = c.fetchall()\n",
    "print(result)\n",
    "c.execute(\"SELECT COUNT(*) FROM MAIN WHERE MAIN.mark < 70 AND MAIN.mark >= 60 AND MAIN.type == 2\")\n",
    "result = c.fetchall()\n",
    "print(result)"
   ]
  },
  {
   "cell_type": "code",
   "execution_count": 44,
   "metadata": {},
   "outputs": [
    {
     "name": "stdout",
     "output_type": "stream",
     "text": [
      "[(1002,)]\n",
      "[(1094,)]\n"
     ]
    }
   ],
   "source": [
    "c, conn = connect('realec.db')\n",
    "c.execute(\"SELECT COUNT(*) FROM MAIN WHERE MAIN.mark < 70 AND MAIN.mark >= 60 AND MAIN.type == 1\")\n",
    "result = c.fetchall()\n",
    "print(result)\n",
    "c.execute(\"SELECT COUNT(*) FROM MAIN WHERE MAIN.mark < 70 AND MAIN.mark >= 60 AND MAIN.type == 2\")\n",
    "result = c.fetchall()\n",
    "print(result)"
   ]
  },
  {
   "cell_type": "code",
   "execution_count": 45,
   "metadata": {},
   "outputs": [
    {
     "name": "stdout",
     "output_type": "stream",
     "text": [
      "[(517,)]\n",
      "[(445,)]\n"
     ]
    }
   ],
   "source": [
    "c, conn = connect('realec.db')\n",
    "c.execute(\"SELECT COUNT(*) FROM MAIN WHERE MAIN.mark < 60 AND MAIN.type == 1\")\n",
    "result = c.fetchall()\n",
    "print(result)\n",
    "c.execute(\"SELECT COUNT(*) FROM MAIN WHERE MAIN.mark < 60 AND MAIN.type == 2\")\n",
    "result = c.fetchall()\n",
    "print(result)"
   ]
  },
  {
   "cell_type": "code",
   "execution_count": null,
   "metadata": {},
   "outputs": [],
   "source": []
  }
 ],
 "metadata": {
  "kernelspec": {
   "display_name": "Python 3",
   "language": "python",
   "name": "python3"
  },
  "language_info": {
   "codemirror_mode": {
    "name": "ipython",
    "version": 3
   },
   "file_extension": ".py",
   "mimetype": "text/x-python",
   "name": "python",
   "nbconvert_exporter": "python",
   "pygments_lexer": "ipython3",
   "version": "3.6.8"
  }
 },
 "nbformat": 4,
 "nbformat_minor": 2
}
