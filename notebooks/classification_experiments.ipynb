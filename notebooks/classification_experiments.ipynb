{
 "cells": [
  {
   "cell_type": "code",
   "execution_count": 1,
   "metadata": {},
   "outputs": [],
   "source": [
    "import pandas as pd\n",
    "from sklearn.preprocessing import FunctionTransformer\n",
    "from sklearn.pipeline import FeatureUnion, Pipeline\n",
    "from sklearn.metrics import classification_report\n",
    "from sklearn.linear_model import LogisticRegression\n",
    "from sklearn.model_selection import train_test_split, cross_val_predict\n",
    "from sklearn.ensemble import RandomForestClassifier\n",
    "from sklearn.neighbors import KNeighborsClassifier\n",
    "from sklearn.metrics import confusion_matrix\n",
    "from imblearn.under_sampling import RandomUnderSampler\n",
    "import warnings\n",
    "import matplotlib.pyplot as plt\n",
    "from imblearn.over_sampling import RandomOverSampler\n",
    "import seaborn as sns\n",
    "\n",
    "%matplotlib inline\n",
    "\n",
    "warnings.filterwarnings(\"ignore\")\n",
    "SEED = 23"
   ]
  },
  {
   "cell_type": "code",
   "execution_count": 2,
   "metadata": {},
   "outputs": [
    {
     "data": {
      "text/html": [
       "<div>\n",
       "<style scoped>\n",
       "    .dataframe tbody tr th:only-of-type {\n",
       "        vertical-align: middle;\n",
       "    }\n",
       "\n",
       "    .dataframe tbody tr th {\n",
       "        vertical-align: top;\n",
       "    }\n",
       "\n",
       "    .dataframe thead th {\n",
       "        text-align: right;\n",
       "    }\n",
       "</style>\n",
       "<table border=\"1\" class=\"dataframe\">\n",
       "  <thead>\n",
       "    <tr style=\"text-align: right;\">\n",
       "      <th></th>\n",
       "      <th>av_depth</th>\n",
       "      <th>max_depth</th>\n",
       "      <th>min_depth</th>\n",
       "      <th>num_acl</th>\n",
       "      <th>num_rel_cl</th>\n",
       "      <th>num_advcl</th>\n",
       "      <th>num_sent</th>\n",
       "      <th>num_tok</th>\n",
       "      <th>av_tok_before_root</th>\n",
       "      <th>av_len_sent</th>\n",
       "      <th>...</th>\n",
       "      <th>punct_mistakes_because</th>\n",
       "      <th>punct_mistakes_but</th>\n",
       "      <th>punct_mistakes_compare</th>\n",
       "      <th>million_mistake</th>\n",
       "      <th>side_mistake</th>\n",
       "      <th>name</th>\n",
       "      <th>text</th>\n",
       "      <th>class</th>\n",
       "      <th>type</th>\n",
       "      <th>sum_punct</th>\n",
       "    </tr>\n",
       "  </thead>\n",
       "  <tbody>\n",
       "    <tr>\n",
       "      <th>0</th>\n",
       "      <td>3.56</td>\n",
       "      <td>6</td>\n",
       "      <td>2</td>\n",
       "      <td>2</td>\n",
       "      <td>0</td>\n",
       "      <td>1</td>\n",
       "      <td>18</td>\n",
       "      <td>244</td>\n",
       "      <td>4.39</td>\n",
       "      <td>13.56</td>\n",
       "      <td>...</td>\n",
       "      <td>0</td>\n",
       "      <td>0</td>\n",
       "      <td>0</td>\n",
       "      <td>0</td>\n",
       "      <td>0</td>\n",
       "      <td>./data/exam/exam2017/OBy_146_1</td>\n",
       "      <td>This two line graphs illustrates monthly avera...</td>\n",
       "      <td>60</td>\n",
       "      <td>1</td>\n",
       "      <td>0</td>\n",
       "    </tr>\n",
       "    <tr>\n",
       "      <th>1</th>\n",
       "      <td>5.43</td>\n",
       "      <td>10</td>\n",
       "      <td>4</td>\n",
       "      <td>1</td>\n",
       "      <td>3</td>\n",
       "      <td>1</td>\n",
       "      <td>7</td>\n",
       "      <td>175</td>\n",
       "      <td>6.29</td>\n",
       "      <td>25.00</td>\n",
       "      <td>...</td>\n",
       "      <td>0</td>\n",
       "      <td>0</td>\n",
       "      <td>0</td>\n",
       "      <td>0</td>\n",
       "      <td>0</td>\n",
       "      <td>./data/exam/exam2017/EGe_15_1</td>\n",
       "      <td>﻿We have two graphics, which show us the popul...</td>\n",
       "      <td>65</td>\n",
       "      <td>1</td>\n",
       "      <td>0</td>\n",
       "    </tr>\n",
       "  </tbody>\n",
       "</table>\n",
       "<p>2 rows × 77 columns</p>\n",
       "</div>"
      ],
      "text/plain": [
       "   av_depth  max_depth  min_depth  num_acl  num_rel_cl  num_advcl  num_sent  \\\n",
       "0      3.56          6          2        2           0          1        18   \n",
       "1      5.43         10          4        1           3          1         7   \n",
       "\n",
       "   num_tok  av_tok_before_root  av_len_sent  ...  punct_mistakes_because  \\\n",
       "0      244                4.39        13.56  ...                       0   \n",
       "1      175                6.29        25.00  ...                       0   \n",
       "\n",
       "   punct_mistakes_but  punct_mistakes_compare  million_mistake  side_mistake  \\\n",
       "0                   0                       0                0             0   \n",
       "1                   0                       0                0             0   \n",
       "\n",
       "                             name  \\\n",
       "0  ./data/exam/exam2017/OBy_146_1   \n",
       "1   ./data/exam/exam2017/EGe_15_1   \n",
       "\n",
       "                                                text  class  type  sum_punct  \n",
       "0  This two line graphs illustrates monthly avera...     60     1          0  \n",
       "1  ﻿We have two graphics, which show us the popul...     65     1          0  \n",
       "\n",
       "[2 rows x 77 columns]"
      ]
     },
     "execution_count": 2,
     "metadata": {},
     "output_type": "execute_result"
    }
   ],
   "source": [
    "df = pd.read_csv('/Users/ira/Downloads/REALEC_Inspector/results/classification_dataset.csv')\n",
    "df.head(2)"
   ]
  },
  {
   "cell_type": "markdown",
   "metadata": {},
   "source": [
    "# Multiclass"
   ]
  },
  {
   "cell_type": "code",
   "execution_count": 3,
   "metadata": {},
   "outputs": [
    {
     "data": {
      "text/plain": [
       "<Figure size 1440x720 with 0 Axes>"
      ]
     },
     "metadata": {},
     "output_type": "display_data"
    }
   ],
   "source": [
    "sns.set(rc={'figure.figsize':(20,10)})\n",
    "sns_plt = sns.countplot(x='class', data=df, palette=\"Set2\")\n",
    "sns_plt.figure.savefig('/Users/ira/Downloads/REALEC_Inspector/graphs/multiclass_distribution.png')\n",
    "plt.clf()"
   ]
  },
  {
   "cell_type": "code",
   "execution_count": 4,
   "metadata": {},
   "outputs": [],
   "source": [
    "feature_columns = [col for col in df.columns if col not in ['class', 'name', 'text', 'type']]\n",
    "X = df[feature_columns]\n",
    "y = df['class']"
   ]
  },
  {
   "cell_type": "code",
   "execution_count": 5,
   "metadata": {},
   "outputs": [],
   "source": [
    "get_numeric_data = FunctionTransformer(lambda x: x[feature_columns], validate=False)\n",
    "\n",
    "def build_model(classifier):\n",
    "    model = Pipeline([\n",
    "        ('features', FeatureUnion([\n",
    "            ('numeric_features', Pipeline([\n",
    "                ('selector', get_numeric_data)\n",
    "            ]))\n",
    "        ])),\n",
    "        ('clf', classifier)\n",
    "    ])\n",
    "    return model"
   ]
  },
  {
   "cell_type": "code",
   "execution_count": 6,
   "metadata": {},
   "outputs": [
    {
     "name": "stdout",
     "output_type": "stream",
     "text": [
      "              precision    recall  f1-score   support\n",
      "\n",
      "          10       0.00      0.00      0.00         1\n",
      "          15       0.06      0.40      0.11         5\n",
      "          20       0.06      0.11      0.07         9\n",
      "          25       0.00      0.00      0.00        10\n",
      "          30       0.11      0.29      0.15        14\n",
      "          35       0.04      0.20      0.07        20\n",
      "          40       0.02      0.12      0.04        33\n",
      "          45       0.06      0.22      0.10        69\n",
      "          50       0.14      0.17      0.15       215\n",
      "          55       0.22      0.12      0.16       585\n",
      "          60       0.45      0.34      0.38      1279\n",
      "          65       0.32      0.19      0.24       816\n",
      "          69       0.00      0.00      0.00         1\n",
      "          70       0.23      0.29      0.26       307\n",
      "          75       0.04      0.17      0.06        69\n",
      "          80       0.03      0.17      0.05         6\n",
      "          85       0.00      0.00      0.00         2\n",
      "\n",
      "   micro avg       0.24      0.24      0.24      3441\n",
      "   macro avg       0.10      0.16      0.11      3441\n",
      "weighted avg       0.31      0.24      0.26      3441\n",
      "\n"
     ]
    }
   ],
   "source": [
    "model = build_model(classifier=LogisticRegression(multi_class='ovr',\n",
    "                                                  class_weight='balanced',\n",
    "                                                  random_state=SEED))\n",
    "y_pred = cross_val_predict(model, X, y, cv=10)\n",
    "print(classification_report(y, y_pred))"
   ]
  },
  {
   "cell_type": "markdown",
   "metadata": {},
   "source": [
    "# Binary classification"
   ]
  },
  {
   "cell_type": "code",
   "execution_count": 7,
   "metadata": {},
   "outputs": [],
   "source": [
    "targets = []\n",
    "for t in df['class']:\n",
    "    if int(t) >= 70:\n",
    "        targets.append('best')\n",
    "    else:\n",
    "        targets.append('not_best')\n",
    "df['class'] = targets"
   ]
  },
  {
   "cell_type": "code",
   "execution_count": 8,
   "metadata": {},
   "outputs": [
    {
     "data": {
      "image/png": "[encoded data removed]",
      "text/plain": [
       "<Figure size 1440x720 with 1 Axes>"
      ]
     },
     "metadata": {},
     "output_type": "display_data"
    }
   ],
   "source": [
    "sns_plt = sns.countplot(x='class', data=df, palette=\"Set2\")\n",
    "sns_plt.figure.savefig('/Users/ira/Downloads/REALEC_Inspector/graphs/binary_class_distribution.png')"
   ]
  },
  {
   "cell_type": "code",
   "execution_count": 9,
   "metadata": {},
   "outputs": [],
   "source": [
    "feature_columns = [col for col in df.columns if col not in ['class', 'name', 'text', 'type']]\n",
    "X = df[feature_columns]\n",
    "y = df['class']"
   ]
  },
  {
   "cell_type": "markdown",
   "metadata": {},
   "source": [
    "## LogisticRegression"
   ]
  },
  {
   "cell_type": "code",
   "execution_count": 10,
   "metadata": {},
   "outputs": [],
   "source": [
    "sns.set(rc={'figure.figsize':(5, 3)})"
   ]
  },
  {
   "cell_type": "code",
   "execution_count": 33,
   "metadata": {},
   "outputs": [],
   "source": [
    "def get_info(classifier, X, y, classes=['non_best', 'best']):\n",
    "    model = build_model(classifier=classifier)\n",
    "    y_pred = cross_val_predict(model, X, y, cv=10)\n",
    "    print(classification_report(y, y_pred))\n",
    "    conf_mat = confusion_matrix(y_true=y, y_pred=y_pred)\n",
    "    sns_plt = sns.heatmap(conf_mat, annot=True, fmt=\"d\",\n",
    "                          yticklabels=classes,\n",
    "                          xticklabels=classes)"
   ]
  },
  {
   "cell_type": "code",
   "execution_count": 12,
   "metadata": {},
   "outputs": [
    {
     "name": "stdout",
     "output_type": "stream",
     "text": [
      "              precision    recall  f1-score   support\n",
      "\n",
      "        best       0.23      0.66      0.34       384\n",
      "    not_best       0.94      0.72      0.82      3057\n",
      "\n",
      "   micro avg       0.71      0.71      0.71      3441\n",
      "   macro avg       0.59      0.69      0.58      3441\n",
      "weighted avg       0.86      0.71      0.76      3441\n",
      "\n"
     ]
    },
    {
     "data": {
      "image/png": "[encoded data removed]",
      "text/plain": [
       "<Figure size 360x216 with 2 Axes>"
      ]
     },
     "metadata": {},
     "output_type": "display_data"
    }
   ],
   "source": [
    "get_info(LogisticRegression(class_weight='balanced', random_state=SEED), X, y)"
   ]
  },
  {
   "cell_type": "markdown",
   "metadata": {},
   "source": [
    "## RandomForestClassifier"
   ]
  },
  {
   "cell_type": "code",
   "execution_count": 13,
   "metadata": {},
   "outputs": [
    {
     "name": "stdout",
     "output_type": "stream",
     "text": [
      "              precision    recall  f1-score   support\n",
      "\n",
      "        best       0.54      0.06      0.10       384\n",
      "    not_best       0.89      0.99      0.94      3057\n",
      "\n",
      "   micro avg       0.89      0.89      0.89      3441\n",
      "   macro avg       0.72      0.53      0.52      3441\n",
      "weighted avg       0.85      0.89      0.85      3441\n",
      "\n"
     ]
    },
    {
     "data": {
      "image/png": "[encoded data removed]",
      "text/plain": [
       "<Figure size 360x216 with 2 Axes>"
      ]
     },
     "metadata": {},
     "output_type": "display_data"
    }
   ],
   "source": [
    "get_info(RandomForestClassifier(n_estimators=50,\n",
    "                                max_depth= 20,\n",
    "                                class_weight='balanced',\n",
    "                                random_state=SEED), X, y)"
   ]
  },
  {
   "cell_type": "markdown",
   "metadata": {},
   "source": [
    "## KNeighborsClassifier"
   ]
  },
  {
   "cell_type": "code",
   "execution_count": 14,
   "metadata": {},
   "outputs": [
    {
     "name": "stdout",
     "output_type": "stream",
     "text": [
      "              precision    recall  f1-score   support\n",
      "\n",
      "        best       0.26      0.07      0.11       384\n",
      "    not_best       0.89      0.98      0.93      3057\n",
      "\n",
      "   micro avg       0.87      0.87      0.87      3441\n",
      "   macro avg       0.58      0.52      0.52      3441\n",
      "weighted avg       0.82      0.87      0.84      3441\n",
      "\n"
     ]
    },
    {
     "data": {
      "image/png": "[encoded data removed]",
      "text/plain": [
       "<Figure size 360x216 with 2 Axes>"
      ]
     },
     "metadata": {},
     "output_type": "display_data"
    }
   ],
   "source": [
    "get_info(KNeighborsClassifier(), X, y)"
   ]
  },
  {
   "cell_type": "markdown",
   "metadata": {},
   "source": [
    "# Balance class\n",
    "https://www.kaggle.com/rafjaa/resampling-strategies-for-imbalanced-datasets"
   ]
  },
  {
   "cell_type": "markdown",
   "metadata": {},
   "source": [
    "## Random under-sampling"
   ]
  },
  {
   "cell_type": "code",
   "execution_count": 15,
   "metadata": {},
   "outputs": [],
   "source": [
    "count_class_0, count_class_1 = df['class'].value_counts()\n",
    "df_class_0 = df[df['class'] == 'not_best']\n",
    "df_class_1 = df[df['class'] == 'best']"
   ]
  },
  {
   "cell_type": "code",
   "execution_count": 16,
   "metadata": {},
   "outputs": [
    {
     "data": {
      "image/png": "[encoded data removed]",
      "text/plain": [
       "<Figure size 360x216 with 1 Axes>"
      ]
     },
     "metadata": {},
     "output_type": "display_data"
    }
   ],
   "source": [
    "df_class_0_under = df_class_0.sample(count_class_1)\n",
    "df_under = pd.concat([df_class_0_under, df_class_1], axis=0)\n",
    "sns_plt = sns.countplot(x='class', data=df_under, palette=\"Set2\")"
   ]
  },
  {
   "cell_type": "code",
   "execution_count": 17,
   "metadata": {},
   "outputs": [],
   "source": [
    "X = df_under[feature_columns]\n",
    "y = df_under['class']"
   ]
  },
  {
   "cell_type": "markdown",
   "metadata": {},
   "source": [
    "### LogisticRegression"
   ]
  },
  {
   "cell_type": "code",
   "execution_count": 18,
   "metadata": {},
   "outputs": [
    {
     "name": "stdout",
     "output_type": "stream",
     "text": [
      "              precision    recall  f1-score   support\n",
      "\n",
      "        best       0.71      0.67      0.69       384\n",
      "    not_best       0.69      0.72      0.70       384\n",
      "\n",
      "   micro avg       0.70      0.70      0.70       768\n",
      "   macro avg       0.70      0.70      0.70       768\n",
      "weighted avg       0.70      0.70      0.70       768\n",
      "\n"
     ]
    },
    {
     "data": {
      "image/png": "[encoded data removed]",
      "text/plain": [
       "<Figure size 360x216 with 2 Axes>"
      ]
     },
     "metadata": {},
     "output_type": "display_data"
    }
   ],
   "source": [
    "get_info(LogisticRegression(class_weight='balanced', random_state=SEED), X, y)"
   ]
  },
  {
   "cell_type": "markdown",
   "metadata": {},
   "source": [
    "### RandomForestClassifier"
   ]
  },
  {
   "cell_type": "code",
   "execution_count": 19,
   "metadata": {},
   "outputs": [
    {
     "name": "stdout",
     "output_type": "stream",
     "text": [
      "              precision    recall  f1-score   support\n",
      "\n",
      "        best       0.68      0.68      0.68       384\n",
      "    not_best       0.68      0.67      0.68       384\n",
      "\n",
      "   micro avg       0.68      0.68      0.68       768\n",
      "   macro avg       0.68      0.68      0.68       768\n",
      "weighted avg       0.68      0.68      0.68       768\n",
      "\n"
     ]
    },
    {
     "data": {
      "image/png": "[encoded data removed]",
      "text/plain": [
       "<Figure size 360x216 with 2 Axes>"
      ]
     },
     "metadata": {},
     "output_type": "display_data"
    }
   ],
   "source": [
    "get_info(RandomForestClassifier(n_estimators=50,\n",
    "                                max_depth= 20,\n",
    "                                class_weight='balanced',\n",
    "                                random_state=SEED), X, y)"
   ]
  },
  {
   "cell_type": "markdown",
   "metadata": {},
   "source": [
    "### KNeighborsClassifier"
   ]
  },
  {
   "cell_type": "code",
   "execution_count": 20,
   "metadata": {},
   "outputs": [
    {
     "name": "stdout",
     "output_type": "stream",
     "text": [
      "              precision    recall  f1-score   support\n",
      "\n",
      "        best       0.60      0.61      0.61       384\n",
      "    not_best       0.61      0.60      0.60       384\n",
      "\n",
      "   micro avg       0.60      0.60      0.60       768\n",
      "   macro avg       0.60      0.60      0.60       768\n",
      "weighted avg       0.60      0.60      0.60       768\n",
      "\n"
     ]
    },
    {
     "data": {
      "image/png": "[encoded data removed]",
      "text/plain": [
       "<Figure size 360x216 with 2 Axes>"
      ]
     },
     "metadata": {},
     "output_type": "display_data"
    }
   ],
   "source": [
    "get_info(KNeighborsClassifier(), X, y)"
   ]
  },
  {
   "cell_type": "markdown",
   "metadata": {},
   "source": [
    "# Python imbalanced-learn module"
   ]
  },
  {
   "cell_type": "markdown",
   "metadata": {},
   "source": [
    "## Undersampling"
   ]
  },
  {
   "cell_type": "code",
   "execution_count": 21,
   "metadata": {},
   "outputs": [],
   "source": [
    "rus = RandomUnderSampler(return_indices=True)\n",
    "X_rus, y_rus, id_rus = rus.fit_sample(X, y)\n",
    "X_rus = pd.DataFrame(X_rus, columns=feature_columns)"
   ]
  },
  {
   "cell_type": "markdown",
   "metadata": {},
   "source": [
    "### LogisticRegression"
   ]
  },
  {
   "cell_type": "code",
   "execution_count": 22,
   "metadata": {},
   "outputs": [
    {
     "name": "stdout",
     "output_type": "stream",
     "text": [
      "              precision    recall  f1-score   support\n",
      "\n",
      "        best       0.69      0.66      0.68       384\n",
      "    not_best       0.68      0.71      0.69       384\n",
      "\n",
      "   micro avg       0.68      0.68      0.68       768\n",
      "   macro avg       0.69      0.68      0.68       768\n",
      "weighted avg       0.69      0.68      0.68       768\n",
      "\n"
     ]
    },
    {
     "data": {
      "image/png": "[encoded data removed]",
      "text/plain": [
       "<Figure size 360x216 with 2 Axes>"
      ]
     },
     "metadata": {},
     "output_type": "display_data"
    }
   ],
   "source": [
    "get_info(LogisticRegression(class_weight='balanced', random_state=SEED), X_rus, y_rus)"
   ]
  },
  {
   "cell_type": "markdown",
   "metadata": {},
   "source": [
    "### RandomForestClassifier"
   ]
  },
  {
   "cell_type": "code",
   "execution_count": 23,
   "metadata": {},
   "outputs": [
    {
     "name": "stdout",
     "output_type": "stream",
     "text": [
      "              precision    recall  f1-score   support\n",
      "\n",
      "        best       0.68      0.72      0.70       384\n",
      "    not_best       0.70      0.66      0.68       384\n",
      "\n",
      "   micro avg       0.69      0.69      0.69       768\n",
      "   macro avg       0.69      0.69      0.69       768\n",
      "weighted avg       0.69      0.69      0.69       768\n",
      "\n"
     ]
    },
    {
     "data": {
      "image/png": "[encoded data removed]",
      "text/plain": [
       "<Figure size 360x216 with 2 Axes>"
      ]
     },
     "metadata": {},
     "output_type": "display_data"
    }
   ],
   "source": [
    "get_info(RandomForestClassifier(n_estimators=50,\n",
    "                                max_depth= 20,\n",
    "                                class_weight='balanced',\n",
    "                                random_state=SEED), X_rus, y_rus)"
   ]
  },
  {
   "cell_type": "markdown",
   "metadata": {},
   "source": [
    "### KNeighborsClassifier"
   ]
  },
  {
   "cell_type": "code",
   "execution_count": 24,
   "metadata": {},
   "outputs": [
    {
     "name": "stdout",
     "output_type": "stream",
     "text": [
      "              precision    recall  f1-score   support\n",
      "\n",
      "        best       0.62      0.62      0.62       384\n",
      "    not_best       0.62      0.62      0.62       384\n",
      "\n",
      "   micro avg       0.62      0.62      0.62       768\n",
      "   macro avg       0.62      0.62      0.62       768\n",
      "weighted avg       0.62      0.62      0.62       768\n",
      "\n"
     ]
    },
    {
     "data": {
      "image/png": "[encoded data removed]",
      "text/plain": [
       "<Figure size 360x216 with 2 Axes>"
      ]
     },
     "metadata": {},
     "output_type": "display_data"
    }
   ],
   "source": [
    "get_info(KNeighborsClassifier(), X_rus, y_rus)"
   ]
  },
  {
   "cell_type": "markdown",
   "metadata": {},
   "source": [
    "## Oversampling"
   ]
  },
  {
   "cell_type": "code",
   "execution_count": 25,
   "metadata": {},
   "outputs": [],
   "source": [
    "ros = RandomOverSampler()\n",
    "X_ros, y_ros = ros.fit_sample(X, y)\n",
    "X_ros = pd.DataFrame(X_ros, columns=feature_columns)"
   ]
  },
  {
   "cell_type": "markdown",
   "metadata": {},
   "source": [
    "### LogisticRegression"
   ]
  },
  {
   "cell_type": "code",
   "execution_count": 26,
   "metadata": {},
   "outputs": [
    {
     "name": "stdout",
     "output_type": "stream",
     "text": [
      "              precision    recall  f1-score   support\n",
      "\n",
      "        best       0.71      0.67      0.69       384\n",
      "    not_best       0.69      0.72      0.70       384\n",
      "\n",
      "   micro avg       0.70      0.70      0.70       768\n",
      "   macro avg       0.70      0.70      0.70       768\n",
      "weighted avg       0.70      0.70      0.70       768\n",
      "\n"
     ]
    },
    {
     "data": {
      "image/png": "[encoded data removed]",
      "text/plain": [
       "<Figure size 360x216 with 2 Axes>"
      ]
     },
     "metadata": {},
     "output_type": "display_data"
    }
   ],
   "source": [
    "get_info(LogisticRegression(class_weight='balanced', random_state=SEED), X_ros, y_ros)"
   ]
  },
  {
   "cell_type": "markdown",
   "metadata": {},
   "source": [
    "### RandomForestClassifier"
   ]
  },
  {
   "cell_type": "code",
   "execution_count": 27,
   "metadata": {},
   "outputs": [
    {
     "name": "stdout",
     "output_type": "stream",
     "text": [
      "              precision    recall  f1-score   support\n",
      "\n",
      "        best       0.68      0.68      0.68       384\n",
      "    not_best       0.68      0.67      0.68       384\n",
      "\n",
      "   micro avg       0.68      0.68      0.68       768\n",
      "   macro avg       0.68      0.68      0.68       768\n",
      "weighted avg       0.68      0.68      0.68       768\n",
      "\n"
     ]
    },
    {
     "data": {
      "image/png": "[encoded data removed]",
      "text/plain": [
       "<Figure size 360x216 with 2 Axes>"
      ]
     },
     "metadata": {},
     "output_type": "display_data"
    }
   ],
   "source": [
    "get_info(RandomForestClassifier(n_estimators=50,\n",
    "                                max_depth= 20,\n",
    "                                class_weight='balanced',\n",
    "                                random_state=SEED), X_ros, y_ros)"
   ]
  },
  {
   "cell_type": "markdown",
   "metadata": {},
   "source": [
    "### KNeighborsClassifier"
   ]
  },
  {
   "cell_type": "code",
   "execution_count": 29,
   "metadata": {},
   "outputs": [
    {
     "name": "stdout",
     "output_type": "stream",
     "text": [
      "              precision    recall  f1-score   support\n",
      "\n",
      "        best       0.60      0.61      0.61       384\n",
      "    not_best       0.61      0.60      0.60       384\n",
      "\n",
      "   micro avg       0.60      0.60      0.60       768\n",
      "   macro avg       0.60      0.60      0.60       768\n",
      "weighted avg       0.60      0.60      0.60       768\n",
      "\n"
     ]
    },
    {
     "data": {
      "image/png": "[encoded data removed]",
      "text/plain": [
       "<Figure size 360x216 with 2 Axes>"
      ]
     },
     "metadata": {},
     "output_type": "display_data"
    }
   ],
   "source": [
    "get_info(KNeighborsClassifier(), X_ros, y_ros)"
   ]
  },
  {
   "cell_type": "markdown",
   "metadata": {},
   "source": [
    "# Type prediction"
   ]
  },
  {
   "cell_type": "code",
   "execution_count": 31,
   "metadata": {},
   "outputs": [],
   "source": [
    "feature_columns = [col for col in df.columns if col not in ['class', 'name', 'text', 'type']]\n",
    "X = df[feature_columns]\n",
    "y = df['type']"
   ]
  },
  {
   "cell_type": "code",
   "execution_count": 34,
   "metadata": {},
   "outputs": [
    {
     "name": "stdout",
     "output_type": "stream",
     "text": [
      "              precision    recall  f1-score   support\n",
      "\n",
      "           1       0.98      0.99      0.98      1699\n",
      "           2       0.99      0.98      0.98      1742\n",
      "\n",
      "   micro avg       0.98      0.98      0.98      3441\n",
      "   macro avg       0.98      0.98      0.98      3441\n",
      "weighted avg       0.98      0.98      0.98      3441\n",
      "\n"
     ]
    },
    {
     "data": {
      "image/png": "[encoded data removed]",
      "text/plain": [
       "<Figure size 360x216 with 2 Axes>"
      ]
     },
     "metadata": {},
     "output_type": "display_data"
    }
   ],
   "source": [
    "get_info(LogisticRegression(class_weight='balanced', random_state=SEED), X, y, classes=['1', '2'])"
   ]
  },
  {
   "cell_type": "code",
   "execution_count": 40,
   "metadata": {},
   "outputs": [],
   "source": [
    "df_1 = df[df['type'] == 1]\n",
    "df_2 = df[df['type'] == 2]"
   ]
  },
  {
   "cell_type": "code",
   "execution_count": 41,
   "metadata": {},
   "outputs": [],
   "source": [
    "X = df_1[feature_columns]\n",
    "y = df_1['class']\n",
    "rus = RandomUnderSampler(return_indices=True)\n",
    "X_rus, y_rus, id_rus = rus.fit_sample(X, y)\n",
    "X_rus = pd.DataFrame(X_rus, columns=feature_columns)"
   ]
  },
  {
   "cell_type": "code",
   "execution_count": 42,
   "metadata": {},
   "outputs": [
    {
     "name": "stdout",
     "output_type": "stream",
     "text": [
      "              precision    recall  f1-score   support\n",
      "\n",
      "        best       0.70      0.62      0.66       181\n",
      "    not_best       0.66      0.73      0.70       181\n",
      "\n",
      "   micro avg       0.68      0.68      0.68       362\n",
      "   macro avg       0.68      0.68      0.68       362\n",
      "weighted avg       0.68      0.68      0.68       362\n",
      "\n"
     ]
    },
    {
     "data": {
      "image/png": "[encoded data removed]",
      "text/plain": [
       "<Figure size 360x216 with 2 Axes>"
      ]
     },
     "metadata": {},
     "output_type": "display_data"
    }
   ],
   "source": [
    "get_info(LogisticRegression(class_weight='balanced', random_state=SEED), X_rus, y_rus, classes=['1', '2'])"
   ]
  },
  {
   "cell_type": "code",
   "execution_count": 43,
   "metadata": {},
   "outputs": [],
   "source": [
    "X = df_2[feature_columns]\n",
    "y = df_2['class']\n",
    "rus = RandomUnderSampler(return_indices=True)\n",
    "X_rus, y_rus, id_rus = rus.fit_sample(X, y)\n",
    "X_rus = pd.DataFrame(X_rus, columns=feature_columns)"
   ]
  },
  {
   "cell_type": "code",
   "execution_count": 44,
   "metadata": {},
   "outputs": [
    {
     "name": "stdout",
     "output_type": "stream",
     "text": [
      "              precision    recall  f1-score   support\n",
      "\n",
      "        best       0.70      0.67      0.68       203\n",
      "    not_best       0.68      0.71      0.70       203\n",
      "\n",
      "   micro avg       0.69      0.69      0.69       406\n",
      "   macro avg       0.69      0.69      0.69       406\n",
      "weighted avg       0.69      0.69      0.69       406\n",
      "\n"
     ]
    },
    {
     "data": {
      "image/png": "[encoded data removed]",
      "text/plain": [
       "<Figure size 360x216 with 2 Axes>"
      ]
     },
     "metadata": {},
     "output_type": "display_data"
    }
   ],
   "source": [
    "get_info(LogisticRegression(class_weight='balanced', random_state=SEED), X_rus, y_rus, classes=['1', '2'])"
   ]
  },
  {
   "cell_type": "markdown",
   "metadata": {},
   "source": [
    "# TF_IDF"
   ]
  },
  {
   "cell_type": "code",
   "execution_count": null,
   "metadata": {},
   "outputs": [],
   "source": []
  }
 ],
 "metadata": {
  "kernelspec": {
   "display_name": "realec",
   "language": "python",
   "name": "realec"
  },
  "language_info": {
   "codemirror_mode": {
    "name": "ipython",
    "version": 3
   },
   "file_extension": ".py",
   "mimetype": "text/x-python",
   "name": "python",
   "nbconvert_exporter": "python",
   "pygments_lexer": "ipython3",
   "version": "3.6.8"
  }
 },
 "nbformat": 4,
 "nbformat_minor": 2
}
