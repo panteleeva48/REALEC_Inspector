{
 "cells": [
  {
   "cell_type": "code",
   "execution_count": 1,
   "metadata": {},
   "outputs": [],
   "source": [
    "import matplotlib.pyplot as plt\n",
    "import numpy as np\n",
    "import pandas as pd\n",
    "import ssl\n",
    "import matplotlib.pyplot as plt\n",
    "import seaborn as sns\n",
    "import warnings\n",
    "import pingouin as pg\n",
    "\n",
    "sns.set(rc={'figure.figsize':(20, 10)})\n",
    "warnings.filterwarnings(\"ignore\")\n",
    "%matplotlib inline\n",
    "SEED = 23"
   ]
  },
  {
   "cell_type": "code",
   "execution_count": 2,
   "metadata": {},
   "outputs": [],
   "source": [
    "dict_group = {\n",
    "    'num_inf': 'morphological',\n",
    "     'num_cl': 'syntactic',\n",
    "     'ndw': 'lexical',\n",
    "     'corrected_vv': 'lexical',\n",
    "     'corrected_ttr': 'lexical',\n",
    "     'lfp_rest': 'lexical',\n",
    "     'lfp_1000': 'lexical',\n",
    "     'num_tok': 'syntactic',\n",
    "     'num_compl_tu': 'syntactic',\n",
    "     'num_noun_inf': 'syntactic',\n",
    "     'num_tu': 'syntactic',\n",
    "     'num_advcl': 'syntactic',\n",
    "     'num_linkings': 'discursive',\n",
    "     'num_shell_noun': 'discursive',\n",
    "     'num_sent': 'syntactic',\n",
    "     'num_adj_noun': 'syntactic',\n",
    "     'density': 'lexical',\n",
    "     'num_4grams': 'discursive',\n",
    "     'nv': 'lexical',\n",
    "     'num_rel_cl': 'syntactic',\n",
    "     'num_coord': 'syntactic',\n",
    "     'num_func_ngrams': 'discursive',\n",
    "     'vvii': 'lexical',\n",
    "     'num_gerunds': 'morphological',\n",
    "     'lfp_2000': 'lexical',\n",
    "     'ls': 'lexical',\n",
    "     'sum_punct': 'l1_interference',\n",
    "     'num_pres_sing': 'morphological',\n",
    "     'min_depth': 'syntactic',\n",
    "     'max_depth': 'syntactic',\n",
    "     'der_level5': 'morphological',\n",
    "     'freq_finite_forms': 'morphological',\n",
    "     'million_mistake': 'l1_interference',\n",
    "     'lfp_uwl': 'lexical',\n",
    "     'num_acl': 'syntactic',\n",
    "     'corrected_vs': 'lexical',\n",
    "     'num_prep': 'syntactic',\n",
    "     'der_level6': 'morphological',\n",
    "     'der_level3': 'morphological',\n",
    "     'av_tok_before_root': 'syntactic',\n",
    "     'num_past_simple': 'morphological',\n",
    "     'num_misspelled_tokens': 'l1_interference',\n",
    "     'av_len_sent': 'syntactic',\n",
    "     'lv': 'lexical',\n",
    "     'num_part_noun': 'syntactic',\n",
    "     'mci': 'morphological',\n",
    "     'pos_sim_nei': 'syntactic',\n",
    "     'freq_aux': 'morphological',\n",
    "     'adjv': 'lexical',\n",
    "     'pos_sim_all': 'syntactic',\n",
    "     'der_level4': 'morphological',\n",
    "     'num_pres_plur': 'morphological',\n",
    "     'advv': 'lexical',\n",
    "    'lemma_sim_nei': 'syntactic',\n",
    "    'modv': 'lexical',\n",
    "    'av_depth': 'syntactic',\n",
    "    'num_past_part': 'morphological',\n",
    "    'num_poss': 'syntactic',\n",
    "    'lemma_sim_all': 'syntactic'\n",
    "}"
   ]
  },
  {
   "cell_type": "code",
   "execution_count": 8,
   "metadata": {},
   "outputs": [
    {
     "data": {
      "text/html": [
       "<div>\n",
       "<style scoped>\n",
       "    .dataframe tbody tr th:only-of-type {\n",
       "        vertical-align: middle;\n",
       "    }\n",
       "\n",
       "    .dataframe tbody tr th {\n",
       "        vertical-align: top;\n",
       "    }\n",
       "\n",
       "    .dataframe thead th {\n",
       "        text-align: right;\n",
       "    }\n",
       "</style>\n",
       "<table border=\"1\" class=\"dataframe\">\n",
       "  <thead>\n",
       "    <tr style=\"text-align: right;\">\n",
       "      <th></th>\n",
       "      <th>av_depth</th>\n",
       "      <th>max_depth</th>\n",
       "      <th>min_depth</th>\n",
       "      <th>num_acl</th>\n",
       "      <th>num_rel_cl</th>\n",
       "      <th>num_advcl</th>\n",
       "      <th>num_sent</th>\n",
       "      <th>num_tok</th>\n",
       "      <th>av_tok_before_root</th>\n",
       "      <th>av_len_sent</th>\n",
       "      <th>...</th>\n",
       "      <th>num_pres_plur</th>\n",
       "      <th>num_past_part</th>\n",
       "      <th>num_past_simple</th>\n",
       "      <th>num_linkings</th>\n",
       "      <th>num_4grams</th>\n",
       "      <th>num_func_ngrams</th>\n",
       "      <th>num_shell_noun</th>\n",
       "      <th>num_misspelled_tokens</th>\n",
       "      <th>million_mistake</th>\n",
       "      <th>part</th>\n",
       "    </tr>\n",
       "  </thead>\n",
       "  <tbody>\n",
       "    <tr>\n",
       "      <th>0</th>\n",
       "      <td>4.111111</td>\n",
       "      <td>6</td>\n",
       "      <td>2</td>\n",
       "      <td>2</td>\n",
       "      <td>0</td>\n",
       "      <td>1</td>\n",
       "      <td>9</td>\n",
       "      <td>150</td>\n",
       "      <td>5.444444</td>\n",
       "      <td>16.666667</td>\n",
       "      <td>...</td>\n",
       "      <td>0</td>\n",
       "      <td>2</td>\n",
       "      <td>0</td>\n",
       "      <td>4</td>\n",
       "      <td>0</td>\n",
       "      <td>0</td>\n",
       "      <td>0</td>\n",
       "      <td>2</td>\n",
       "      <td>0</td>\n",
       "      <td>0</td>\n",
       "    </tr>\n",
       "    <tr>\n",
       "      <th>1</th>\n",
       "      <td>3.000000</td>\n",
       "      <td>4</td>\n",
       "      <td>2</td>\n",
       "      <td>0</td>\n",
       "      <td>0</td>\n",
       "      <td>0</td>\n",
       "      <td>9</td>\n",
       "      <td>94</td>\n",
       "      <td>3.333333</td>\n",
       "      <td>10.444444</td>\n",
       "      <td>...</td>\n",
       "      <td>0</td>\n",
       "      <td>0</td>\n",
       "      <td>0</td>\n",
       "      <td>1</td>\n",
       "      <td>1</td>\n",
       "      <td>0</td>\n",
       "      <td>0</td>\n",
       "      <td>1</td>\n",
       "      <td>0</td>\n",
       "      <td>1</td>\n",
       "    </tr>\n",
       "  </tbody>\n",
       "</table>\n",
       "<p>2 rows × 59 columns</p>\n",
       "</div>"
      ],
      "text/plain": [
       "   av_depth  max_depth  min_depth  num_acl  num_rel_cl  num_advcl  num_sent  \\\n",
       "0  4.111111          6          2        2           0          1         9   \n",
       "1  3.000000          4          2        0           0          0         9   \n",
       "\n",
       "   num_tok  av_tok_before_root  av_len_sent  ...  num_pres_plur  \\\n",
       "0      150            5.444444    16.666667  ...              0   \n",
       "1       94            3.333333    10.444444  ...              0   \n",
       "\n",
       "   num_past_part  num_past_simple  num_linkings  num_4grams  num_func_ngrams  \\\n",
       "0              2                0             4           0                0   \n",
       "1              0                0             1           1                0   \n",
       "\n",
       "   num_shell_noun  num_misspelled_tokens  million_mistake  part  \n",
       "0               0                      2                0     0  \n",
       "1               0                      1                0     1  \n",
       "\n",
       "[2 rows x 59 columns]"
      ]
     },
     "execution_count": 8,
     "metadata": {},
     "output_type": "execute_result"
    }
   ],
   "source": [
    "df = pd.read_csv('/Users/ira/Downloads/REALEC_Inspector/data/part_experiment_result.csv')\n",
    "df['class'] = round(df['class'] / 10).astype(int)\n",
    "df = df[df['class'] != 1]\n",
    "df = df.drop(['name', 'text', 'side_mistake', 'type',\n",
    "              'vs', 'squared_vs', 'ttr', 'root_ttr',\n",
    "              'log_ttr', 'uber_ttr', 'd', 'vvi',\n",
    "              'squared_vv', 'punct_mistakes_pp',\n",
    "              'punct_mistakes_because', 'class',\n",
    "              'punct_mistakes_but', 'punct_mistakes_compare'], axis=1)\n",
    "\n",
    "df.head(2)"
   ]
  },
  {
   "cell_type": "code",
   "execution_count": 9,
   "metadata": {},
   "outputs": [],
   "source": [
    "def get_info(feature, df):\n",
    "    mean_1 = round(np.mean(df[df['part'] == 0][feature].to_list()), 3)\n",
    "    mean_2 = round(np.mean(df[df['part'] == 1][feature].to_list()), 3)\n",
    "    one_way_anova = pg.anova(data=df, dv=feature, between='part', detailed=True)\n",
    "    p_value = one_way_anova['p-unc'][0]\n",
    "    F = one_way_anova['F'][0]\n",
    "    np2 = one_way_anova['np2'][0]\n",
    "    return round(p_value, 3), round(F, 3), round(np2, 3), mean_1, mean_2"
   ]
  },
  {
   "cell_type": "code",
   "execution_count": 10,
   "metadata": {},
   "outputs": [],
   "source": [
    "p_values = []\n",
    "Fs = []\n",
    "np2s = []\n",
    "mean_1s = []\n",
    "mean_2s = []\n",
    "groups = []\n",
    "features = [x for x in df.columns if x != 'part']\n",
    "for f in features:\n",
    "    p_value, F, np2, mean_1, mean_2 = get_info(f, df)\n",
    "    p_values.append(p_value)\n",
    "    Fs.append(F)\n",
    "    np2s.append(np2)\n",
    "    mean_1s.append(mean_1)\n",
    "    mean_2s.append(mean_2)\n",
    "    groups.append(dict_group[f])\n",
    "f_df_anova = pd.DataFrame(data={'F-value': Fs,\n",
    "                                'p-value': p_values,\n",
    "                                'partial eta-square': np2s,\n",
    "                                'feature': features,\n",
    "                                'first part': mean_1s,\n",
    "                               'second part': mean_2s,\n",
    "                               'group': groups})\n",
    "f_df_anova = f_df_anova.sort_values(['F-value', 'partial eta-square'], ascending=[0, 0])\n",
    "f_df_anova = f_df_anova.set_index('feature')"
   ]
  },
  {
   "cell_type": "markdown",
   "metadata": {},
   "source": [
    "# No difference"
   ]
  },
  {
   "cell_type": "code",
   "execution_count": 11,
   "metadata": {},
   "outputs": [
    {
     "data": {
      "text/html": [
       "<div>\n",
       "<style scoped>\n",
       "    .dataframe tbody tr th:only-of-type {\n",
       "        vertical-align: middle;\n",
       "    }\n",
       "\n",
       "    .dataframe tbody tr th {\n",
       "        vertical-align: top;\n",
       "    }\n",
       "\n",
       "    .dataframe thead th {\n",
       "        text-align: right;\n",
       "    }\n",
       "</style>\n",
       "<table border=\"1\" class=\"dataframe\">\n",
       "  <thead>\n",
       "    <tr style=\"text-align: right;\">\n",
       "      <th></th>\n",
       "      <th>F-value</th>\n",
       "      <th>p-value</th>\n",
       "      <th>partial eta-square</th>\n",
       "      <th>first part</th>\n",
       "      <th>second part</th>\n",
       "      <th>group</th>\n",
       "    </tr>\n",
       "    <tr>\n",
       "      <th>feature</th>\n",
       "      <th></th>\n",
       "      <th></th>\n",
       "      <th></th>\n",
       "      <th></th>\n",
       "      <th></th>\n",
       "      <th></th>\n",
       "    </tr>\n",
       "  </thead>\n",
       "  <tbody>\n",
       "    <tr>\n",
       "      <th>av_depth</th>\n",
       "      <td>2.993</td>\n",
       "      <td>0.084</td>\n",
       "      <td>0.0</td>\n",
       "      <td>4.640</td>\n",
       "      <td>4.685</td>\n",
       "      <td>syntactic</td>\n",
       "    </tr>\n",
       "    <tr>\n",
       "      <th>corrected_vs</th>\n",
       "      <td>2.388</td>\n",
       "      <td>0.122</td>\n",
       "      <td>0.0</td>\n",
       "      <td>0.233</td>\n",
       "      <td>0.224</td>\n",
       "      <td>lexical</td>\n",
       "    </tr>\n",
       "    <tr>\n",
       "      <th>lfp_1000</th>\n",
       "      <td>1.613</td>\n",
       "      <td>0.204</td>\n",
       "      <td>0.0</td>\n",
       "      <td>0.672</td>\n",
       "      <td>0.670</td>\n",
       "      <td>lexical</td>\n",
       "    </tr>\n",
       "    <tr>\n",
       "      <th>der_level5</th>\n",
       "      <td>1.129</td>\n",
       "      <td>0.288</td>\n",
       "      <td>0.0</td>\n",
       "      <td>0.055</td>\n",
       "      <td>0.054</td>\n",
       "      <td>morphological</td>\n",
       "    </tr>\n",
       "    <tr>\n",
       "      <th>num_noun_inf</th>\n",
       "      <td>1.091</td>\n",
       "      <td>0.296</td>\n",
       "      <td>0.0</td>\n",
       "      <td>0.903</td>\n",
       "      <td>0.872</td>\n",
       "      <td>syntactic</td>\n",
       "    </tr>\n",
       "  </tbody>\n",
       "</table>\n",
       "</div>"
      ],
      "text/plain": [
       "              F-value  p-value  partial eta-square  first part  second part  \\\n",
       "feature                                                                       \n",
       "av_depth        2.993    0.084                 0.0       4.640        4.685   \n",
       "corrected_vs    2.388    0.122                 0.0       0.233        0.224   \n",
       "lfp_1000        1.613    0.204                 0.0       0.672        0.670   \n",
       "der_level5      1.129    0.288                 0.0       0.055        0.054   \n",
       "num_noun_inf    1.091    0.296                 0.0       0.903        0.872   \n",
       "\n",
       "                      group  \n",
       "feature                      \n",
       "av_depth          syntactic  \n",
       "corrected_vs        lexical  \n",
       "lfp_1000            lexical  \n",
       "der_level5    morphological  \n",
       "num_noun_inf      syntactic  "
      ]
     },
     "execution_count": 11,
     "metadata": {},
     "output_type": "execute_result"
    }
   ],
   "source": [
    "no_diff = f_df_anova[f_df_anova['p-value'] >= 0.05]\n",
    "no_diff.head()"
   ]
  },
  {
   "cell_type": "code",
   "execution_count": 13,
   "metadata": {},
   "outputs": [
    {
     "data": {
      "text/html": [
       "<div>\n",
       "<style scoped>\n",
       "    .dataframe tbody tr th:only-of-type {\n",
       "        vertical-align: middle;\n",
       "    }\n",
       "\n",
       "    .dataframe tbody tr th {\n",
       "        vertical-align: top;\n",
       "    }\n",
       "\n",
       "    .dataframe thead th {\n",
       "        text-align: right;\n",
       "    }\n",
       "</style>\n",
       "<table border=\"1\" class=\"dataframe\">\n",
       "  <thead>\n",
       "    <tr style=\"text-align: right;\">\n",
       "      <th></th>\n",
       "      <th>feature</th>\n",
       "      <th>part</th>\n",
       "      <th>mean</th>\n",
       "    </tr>\n",
       "  </thead>\n",
       "  <tbody>\n",
       "    <tr>\n",
       "      <th>0</th>\n",
       "      <td>av_depth</td>\n",
       "      <td>first part</td>\n",
       "      <td>4.640</td>\n",
       "    </tr>\n",
       "    <tr>\n",
       "      <th>1</th>\n",
       "      <td>corrected_vs</td>\n",
       "      <td>first part</td>\n",
       "      <td>0.233</td>\n",
       "    </tr>\n",
       "    <tr>\n",
       "      <th>2</th>\n",
       "      <td>lfp_1000</td>\n",
       "      <td>first part</td>\n",
       "      <td>0.672</td>\n",
       "    </tr>\n",
       "    <tr>\n",
       "      <th>3</th>\n",
       "      <td>der_level5</td>\n",
       "      <td>first part</td>\n",
       "      <td>0.055</td>\n",
       "    </tr>\n",
       "    <tr>\n",
       "      <th>4</th>\n",
       "      <td>num_noun_inf</td>\n",
       "      <td>first part</td>\n",
       "      <td>0.903</td>\n",
       "    </tr>\n",
       "    <tr>\n",
       "      <th>5</th>\n",
       "      <td>num_advcl</td>\n",
       "      <td>first part</td>\n",
       "      <td>2.380</td>\n",
       "    </tr>\n",
       "    <tr>\n",
       "      <th>6</th>\n",
       "      <td>num_past_simple</td>\n",
       "      <td>first part</td>\n",
       "      <td>1.997</td>\n",
       "    </tr>\n",
       "    <tr>\n",
       "      <th>7</th>\n",
       "      <td>lfp_rest</td>\n",
       "      <td>first part</td>\n",
       "      <td>0.196</td>\n",
       "    </tr>\n",
       "    <tr>\n",
       "      <th>8</th>\n",
       "      <td>av_depth</td>\n",
       "      <td>second part</td>\n",
       "      <td>4.685</td>\n",
       "    </tr>\n",
       "    <tr>\n",
       "      <th>9</th>\n",
       "      <td>corrected_vs</td>\n",
       "      <td>second part</td>\n",
       "      <td>0.224</td>\n",
       "    </tr>\n",
       "    <tr>\n",
       "      <th>10</th>\n",
       "      <td>lfp_1000</td>\n",
       "      <td>second part</td>\n",
       "      <td>0.670</td>\n",
       "    </tr>\n",
       "    <tr>\n",
       "      <th>11</th>\n",
       "      <td>der_level5</td>\n",
       "      <td>second part</td>\n",
       "      <td>0.054</td>\n",
       "    </tr>\n",
       "    <tr>\n",
       "      <th>12</th>\n",
       "      <td>num_noun_inf</td>\n",
       "      <td>second part</td>\n",
       "      <td>0.872</td>\n",
       "    </tr>\n",
       "    <tr>\n",
       "      <th>13</th>\n",
       "      <td>num_advcl</td>\n",
       "      <td>second part</td>\n",
       "      <td>2.345</td>\n",
       "    </tr>\n",
       "    <tr>\n",
       "      <th>14</th>\n",
       "      <td>num_past_simple</td>\n",
       "      <td>second part</td>\n",
       "      <td>2.007</td>\n",
       "    </tr>\n",
       "    <tr>\n",
       "      <th>15</th>\n",
       "      <td>lfp_rest</td>\n",
       "      <td>second part</td>\n",
       "      <td>0.196</td>\n",
       "    </tr>\n",
       "  </tbody>\n",
       "</table>\n",
       "</div>"
      ],
      "text/plain": [
       "            feature         part   mean\n",
       "0          av_depth   first part  4.640\n",
       "1      corrected_vs   first part  0.233\n",
       "2          lfp_1000   first part  0.672\n",
       "3        der_level5   first part  0.055\n",
       "4      num_noun_inf   first part  0.903\n",
       "5         num_advcl   first part  2.380\n",
       "6   num_past_simple   first part  1.997\n",
       "7          lfp_rest   first part  0.196\n",
       "8          av_depth  second part  4.685\n",
       "9      corrected_vs  second part  0.224\n",
       "10         lfp_1000  second part  0.670\n",
       "11       der_level5  second part  0.054\n",
       "12     num_noun_inf  second part  0.872\n",
       "13        num_advcl  second part  2.345\n",
       "14  num_past_simple  second part  2.007\n",
       "15         lfp_rest  second part  0.196"
      ]
     },
     "execution_count": 13,
     "metadata": {},
     "output_type": "execute_result"
    }
   ],
   "source": [
    "no_diff_graph = no_diff\n",
    "no_diff_graph['feature'] = no_diff_graph.index\n",
    "no_diff_graph = no_diff_graph[['first part', 'second part', \"feature\"]]\n",
    "no_diff_graph = pd.melt(no_diff_graph, id_vars=\"feature\", var_name=\"part\", value_name=\"mean\")\n",
    "no_diff_graph"
   ]
  },
  {
   "cell_type": "code",
   "execution_count": 14,
   "metadata": {},
   "outputs": [
    {
     "data": {
      "image/png": "[encoded data removed]",
      "text/plain": [
       "<Figure size 1440x720 with 1 Axes>"
      ]
     },
     "metadata": {},
     "output_type": "display_data"
    }
   ],
   "source": [
    "sns.set(rc={'figure.figsize':(20,10)})\n",
    "sns_plt = sns.barplot(x=\"feature\", y=\"mean\", hue=\"part\", data=no_diff_graph, palette=\"Set2\")\n",
    "sns_plt.figure.savefig('/Users/ira/Downloads/REALEC_Inspector/graphs/part_difference/no_difference.png')"
   ]
  },
  {
   "cell_type": "markdown",
   "metadata": {},
   "source": [
    "# Difference"
   ]
  },
  {
   "cell_type": "code",
   "execution_count": 15,
   "metadata": {},
   "outputs": [
    {
     "data": {
      "text/html": [
       "<div>\n",
       "<style scoped>\n",
       "    .dataframe tbody tr th:only-of-type {\n",
       "        vertical-align: middle;\n",
       "    }\n",
       "\n",
       "    .dataframe tbody tr th {\n",
       "        vertical-align: top;\n",
       "    }\n",
       "\n",
       "    .dataframe thead th {\n",
       "        text-align: right;\n",
       "    }\n",
       "</style>\n",
       "<table border=\"1\" class=\"dataframe\">\n",
       "  <thead>\n",
       "    <tr style=\"text-align: right;\">\n",
       "      <th></th>\n",
       "      <th>F-value</th>\n",
       "      <th>p-value</th>\n",
       "      <th>partial eta-square</th>\n",
       "      <th>first part</th>\n",
       "      <th>second part</th>\n",
       "      <th>group</th>\n",
       "    </tr>\n",
       "    <tr>\n",
       "      <th>feature</th>\n",
       "      <th></th>\n",
       "      <th></th>\n",
       "      <th></th>\n",
       "      <th></th>\n",
       "      <th></th>\n",
       "      <th></th>\n",
       "    </tr>\n",
       "  </thead>\n",
       "  <tbody>\n",
       "    <tr>\n",
       "      <th>num_poss</th>\n",
       "      <td>831.209</td>\n",
       "      <td>0.0</td>\n",
       "      <td>0.108</td>\n",
       "      <td>8.612</td>\n",
       "      <td>6.190</td>\n",
       "      <td>syntactic</td>\n",
       "    </tr>\n",
       "    <tr>\n",
       "      <th>num_sent</th>\n",
       "      <td>796.005</td>\n",
       "      <td>0.0</td>\n",
       "      <td>0.104</td>\n",
       "      <td>7.036</td>\n",
       "      <td>5.479</td>\n",
       "      <td>syntactic</td>\n",
       "    </tr>\n",
       "    <tr>\n",
       "      <th>lv</th>\n",
       "      <td>646.380</td>\n",
       "      <td>0.0</td>\n",
       "      <td>0.086</td>\n",
       "      <td>0.559</td>\n",
       "      <td>0.604</td>\n",
       "      <td>lexical</td>\n",
       "    </tr>\n",
       "    <tr>\n",
       "      <th>num_tok</th>\n",
       "      <td>642.133</td>\n",
       "      <td>0.0</td>\n",
       "      <td>0.085</td>\n",
       "      <td>141.441</td>\n",
       "      <td>115.540</td>\n",
       "      <td>syntactic</td>\n",
       "    </tr>\n",
       "    <tr>\n",
       "      <th>num_tu</th>\n",
       "      <td>534.080</td>\n",
       "      <td>0.0</td>\n",
       "      <td>0.072</td>\n",
       "      <td>8.810</td>\n",
       "      <td>6.841</td>\n",
       "      <td>syntactic</td>\n",
       "    </tr>\n",
       "  </tbody>\n",
       "</table>\n",
       "</div>"
      ],
      "text/plain": [
       "          F-value  p-value  partial eta-square  first part  second part  \\\n",
       "feature                                                                   \n",
       "num_poss  831.209      0.0               0.108       8.612        6.190   \n",
       "num_sent  796.005      0.0               0.104       7.036        5.479   \n",
       "lv        646.380      0.0               0.086       0.559        0.604   \n",
       "num_tok   642.133      0.0               0.085     141.441      115.540   \n",
       "num_tu    534.080      0.0               0.072       8.810        6.841   \n",
       "\n",
       "              group  \n",
       "feature              \n",
       "num_poss  syntactic  \n",
       "num_sent  syntactic  \n",
       "lv          lexical  \n",
       "num_tok   syntactic  \n",
       "num_tu    syntactic  "
      ]
     },
     "execution_count": 15,
     "metadata": {},
     "output_type": "execute_result"
    }
   ],
   "source": [
    "diff = f_df_anova[f_df_anova['p-value'] < 0.05]\n",
    "diff.head()"
   ]
  },
  {
   "cell_type": "code",
   "execution_count": 16,
   "metadata": {},
   "outputs": [],
   "source": [
    "diff_graph = diff\n",
    "diff_graph['feature'] = diff_graph.index\n",
    "diff_graph = diff_graph[['first part', 'second part', \"feature\", 'group']]"
   ]
  },
  {
   "cell_type": "code",
   "execution_count": 17,
   "metadata": {},
   "outputs": [
    {
     "data": {
      "text/html": [
       "<div>\n",
       "<style scoped>\n",
       "    .dataframe tbody tr th:only-of-type {\n",
       "        vertical-align: middle;\n",
       "    }\n",
       "\n",
       "    .dataframe tbody tr th {\n",
       "        vertical-align: top;\n",
       "    }\n",
       "\n",
       "    .dataframe thead th {\n",
       "        text-align: right;\n",
       "    }\n",
       "</style>\n",
       "<table border=\"1\" class=\"dataframe\">\n",
       "  <thead>\n",
       "    <tr style=\"text-align: right;\">\n",
       "      <th></th>\n",
       "      <th>first part</th>\n",
       "      <th>second part</th>\n",
       "      <th>feature</th>\n",
       "      <th>group</th>\n",
       "    </tr>\n",
       "    <tr>\n",
       "      <th>feature</th>\n",
       "      <th></th>\n",
       "      <th></th>\n",
       "      <th></th>\n",
       "      <th></th>\n",
       "    </tr>\n",
       "  </thead>\n",
       "  <tbody>\n",
       "    <tr>\n",
       "      <th>num_poss</th>\n",
       "      <td>8.612</td>\n",
       "      <td>6.190</td>\n",
       "      <td>num_poss</td>\n",
       "      <td>syntactic</td>\n",
       "    </tr>\n",
       "    <tr>\n",
       "      <th>num_sent</th>\n",
       "      <td>7.036</td>\n",
       "      <td>5.479</td>\n",
       "      <td>num_sent</td>\n",
       "      <td>syntactic</td>\n",
       "    </tr>\n",
       "    <tr>\n",
       "      <th>lv</th>\n",
       "      <td>0.559</td>\n",
       "      <td>0.604</td>\n",
       "      <td>lv</td>\n",
       "      <td>lexical</td>\n",
       "    </tr>\n",
       "    <tr>\n",
       "      <th>num_tok</th>\n",
       "      <td>141.441</td>\n",
       "      <td>115.540</td>\n",
       "      <td>num_tok</td>\n",
       "      <td>syntactic</td>\n",
       "    </tr>\n",
       "    <tr>\n",
       "      <th>num_tu</th>\n",
       "      <td>8.810</td>\n",
       "      <td>6.841</td>\n",
       "      <td>num_tu</td>\n",
       "      <td>syntactic</td>\n",
       "    </tr>\n",
       "  </tbody>\n",
       "</table>\n",
       "</div>"
      ],
      "text/plain": [
       "          first part  second part   feature      group\n",
       "feature                                               \n",
       "num_poss       8.612        6.190  num_poss  syntactic\n",
       "num_sent       7.036        5.479  num_sent  syntactic\n",
       "lv             0.559        0.604        lv    lexical\n",
       "num_tok      141.441      115.540   num_tok  syntactic\n",
       "num_tu         8.810        6.841    num_tu  syntactic"
      ]
     },
     "execution_count": 17,
     "metadata": {},
     "output_type": "execute_result"
    }
   ],
   "source": [
    "diff_graph.head()"
   ]
  },
  {
   "cell_type": "markdown",
   "metadata": {},
   "source": [
    "## Lexical"
   ]
  },
  {
   "cell_type": "code",
   "execution_count": 18,
   "metadata": {},
   "outputs": [
    {
     "data": {
      "text/html": [
       "<div>\n",
       "<style scoped>\n",
       "    .dataframe tbody tr th:only-of-type {\n",
       "        vertical-align: middle;\n",
       "    }\n",
       "\n",
       "    .dataframe tbody tr th {\n",
       "        vertical-align: top;\n",
       "    }\n",
       "\n",
       "    .dataframe thead th {\n",
       "        text-align: right;\n",
       "    }\n",
       "</style>\n",
       "<table border=\"1\" class=\"dataframe\">\n",
       "  <thead>\n",
       "    <tr style=\"text-align: right;\">\n",
       "      <th></th>\n",
       "      <th>feature</th>\n",
       "      <th>part</th>\n",
       "      <th>mean</th>\n",
       "    </tr>\n",
       "  </thead>\n",
       "  <tbody>\n",
       "    <tr>\n",
       "      <th>0</th>\n",
       "      <td>lv</td>\n",
       "      <td>first part</td>\n",
       "      <td>0.559</td>\n",
       "    </tr>\n",
       "    <tr>\n",
       "      <th>1</th>\n",
       "      <td>ndw</td>\n",
       "      <td>first part</td>\n",
       "      <td>77.939</td>\n",
       "    </tr>\n",
       "    <tr>\n",
       "      <th>2</th>\n",
       "      <td>modv</td>\n",
       "      <td>first part</td>\n",
       "      <td>0.228</td>\n",
       "    </tr>\n",
       "    <tr>\n",
       "      <th>3</th>\n",
       "      <td>advv</td>\n",
       "      <td>first part</td>\n",
       "      <td>0.092</td>\n",
       "    </tr>\n",
       "    <tr>\n",
       "      <th>4</th>\n",
       "      <td>corrected_ttr</td>\n",
       "      <td>first part</td>\n",
       "      <td>4.616</td>\n",
       "    </tr>\n",
       "  </tbody>\n",
       "</table>\n",
       "</div>"
      ],
      "text/plain": [
       "         feature        part    mean\n",
       "0             lv  first part   0.559\n",
       "1            ndw  first part  77.939\n",
       "2           modv  first part   0.228\n",
       "3           advv  first part   0.092\n",
       "4  corrected_ttr  first part   4.616"
      ]
     },
     "execution_count": 18,
     "metadata": {},
     "output_type": "execute_result"
    }
   ],
   "source": [
    "diff_graph_lex = diff_graph[diff_graph['group'] == 'lexical']\n",
    "diff_graph_lex = diff_graph_lex.drop(['group'], axis=1)\n",
    "diff_graph_lex = pd.melt(diff_graph_lex, id_vars=\"feature\", var_name=\"part\", value_name=\"mean\")\n",
    "diff_graph_lex.head()"
   ]
  },
  {
   "cell_type": "code",
   "execution_count": 19,
   "metadata": {},
   "outputs": [
    {
     "data": {
      "image/png": "[encoded data removed]",
      "text/plain": [
       "<Figure size 1440x720 with 1 Axes>"
      ]
     },
     "metadata": {},
     "output_type": "display_data"
    }
   ],
   "source": [
    "_diff_graph_lex = diff_graph_lex[diff_graph_lex['feature'].isin(['corrected_vv', 'corrected_ttr'])]\n",
    "sns_plt = sns.barplot(x=\"feature\", y=\"mean\", hue=\"part\", data=_diff_graph_lex, palette=\"Set2\")\n",
    "sns_plt.figure.savefig('/Users/ira/Downloads/REALEC_Inspector/graphs/part_difference/difference_vv_ttr.png')"
   ]
  },
  {
   "cell_type": "code",
   "execution_count": 20,
   "metadata": {},
   "outputs": [
    {
     "data": {
      "image/png": "[encoded data removed]",
      "text/plain": [
       "<Figure size 1440x720 with 1 Axes>"
      ]
     },
     "metadata": {},
     "output_type": "display_data"
    }
   ],
   "source": [
    "_diff_graph_lex = diff_graph_lex[diff_graph_lex['feature'].isin(['ndw'])]\n",
    "sns.set(rc={'figure.figsize':(20,10)})\n",
    "sns_plt = sns.barplot(x=\"feature\", y=\"mean\", hue=\"part\", data=_diff_graph_lex, palette=\"Set2\")\n",
    "sns_plt.figure.savefig('/Users/ira/Downloads/REALEC_Inspector/graphs/part_difference/difference_ndw.png')"
   ]
  },
  {
   "cell_type": "code",
   "execution_count": 21,
   "metadata": {},
   "outputs": [
    {
     "data": {
      "image/png": "[encoded data removed]",
      "text/plain": [
       "<Figure size 1440x720 with 1 Axes>"
      ]
     },
     "metadata": {},
     "output_type": "display_data"
    }
   ],
   "source": [
    "_diff_graph_lex = diff_graph_lex[diff_graph_lex['feature'] != 'ndw']\n",
    "_diff_graph_lex = _diff_graph_lex[diff_graph_lex['feature'] != 'corrected_vv']\n",
    "_diff_graph_lex = _diff_graph_lex[diff_graph_lex['feature'] != 'corrected_ttr']\n",
    "sns.set(rc={'figure.figsize':(20,10)})\n",
    "sns_plt = sns.barplot(x=\"feature\", y=\"mean\", hue=\"part\", data=_diff_graph_lex, palette=\"Set2\")\n",
    "sns_plt.figure.savefig('/Users/ira/Downloads/REALEC_Inspector/graphs/part_difference/difference_rest_lex.png')"
   ]
  },
  {
   "cell_type": "markdown",
   "metadata": {},
   "source": [
    "## Morhological"
   ]
  },
  {
   "cell_type": "code",
   "execution_count": 22,
   "metadata": {},
   "outputs": [
    {
     "data": {
      "text/html": [
       "<div>\n",
       "<style scoped>\n",
       "    .dataframe tbody tr th:only-of-type {\n",
       "        vertical-align: middle;\n",
       "    }\n",
       "\n",
       "    .dataframe tbody tr th {\n",
       "        vertical-align: top;\n",
       "    }\n",
       "\n",
       "    .dataframe thead th {\n",
       "        text-align: right;\n",
       "    }\n",
       "</style>\n",
       "<table border=\"1\" class=\"dataframe\">\n",
       "  <thead>\n",
       "    <tr style=\"text-align: right;\">\n",
       "      <th></th>\n",
       "      <th>feature</th>\n",
       "      <th>part</th>\n",
       "      <th>mean</th>\n",
       "    </tr>\n",
       "  </thead>\n",
       "  <tbody>\n",
       "    <tr>\n",
       "      <th>0</th>\n",
       "      <td>num_pres_sing</td>\n",
       "      <td>first part</td>\n",
       "      <td>4.299</td>\n",
       "    </tr>\n",
       "    <tr>\n",
       "      <th>1</th>\n",
       "      <td>mci</td>\n",
       "      <td>first part</td>\n",
       "      <td>2.867</td>\n",
       "    </tr>\n",
       "    <tr>\n",
       "      <th>2</th>\n",
       "      <td>num_past_part</td>\n",
       "      <td>first part</td>\n",
       "      <td>2.573</td>\n",
       "    </tr>\n",
       "    <tr>\n",
       "      <th>3</th>\n",
       "      <td>freq_finite_forms</td>\n",
       "      <td>first part</td>\n",
       "      <td>0.443</td>\n",
       "    </tr>\n",
       "    <tr>\n",
       "      <th>4</th>\n",
       "      <td>der_level6</td>\n",
       "      <td>first part</td>\n",
       "      <td>0.038</td>\n",
       "    </tr>\n",
       "  </tbody>\n",
       "</table>\n",
       "</div>"
      ],
      "text/plain": [
       "             feature        part   mean\n",
       "0      num_pres_sing  first part  4.299\n",
       "1                mci  first part  2.867\n",
       "2      num_past_part  first part  2.573\n",
       "3  freq_finite_forms  first part  0.443\n",
       "4         der_level6  first part  0.038"
      ]
     },
     "execution_count": 22,
     "metadata": {},
     "output_type": "execute_result"
    }
   ],
   "source": [
    "diff_graph_lex = diff_graph[diff_graph['group'] == 'morphological']\n",
    "diff_graph_lex = diff_graph_lex.drop(['group'], axis=1)\n",
    "diff_graph_lex = pd.melt(diff_graph_lex, id_vars=\"feature\", var_name=\"part\", value_name=\"mean\")\n",
    "diff_graph_lex.head()"
   ]
  },
  {
   "cell_type": "code",
   "execution_count": 23,
   "metadata": {},
   "outputs": [
    {
     "data": {
      "image/png": "[encoded data removed]",
      "text/plain": [
       "<Figure size 1440x720 with 1 Axes>"
      ]
     },
     "metadata": {},
     "output_type": "display_data"
    }
   ],
   "source": [
    "_diff_graph_lex = diff_graph_lex[diff_graph_lex['feature'].isin(['num_inf', 'num_gerunds',\n",
    "                                                                 'num_pres_sing', 'num_past_simple',\n",
    "                                                                 'mci', 'freq_aux', 'freq_finite_forms'])]\n",
    "sns.set(rc={'figure.figsize':(20,10)})\n",
    "sns_plt = sns.barplot(x=\"feature\", y=\"mean\", hue=\"part\", data=_diff_graph_lex, palette=\"Set2\")\n",
    "sns_plt.figure.savefig('/Users/ira/Downloads/REALEC_Inspector/graphs/part_difference/difference_rest_morph_1.png')"
   ]
  },
  {
   "cell_type": "code",
   "execution_count": 24,
   "metadata": {},
   "outputs": [
    {
     "data": {
      "image/png": "[encoded data removed]",
      "text/plain": [
       "<Figure size 1440x720 with 1 Axes>"
      ]
     },
     "metadata": {},
     "output_type": "display_data"
    }
   ],
   "source": [
    "_diff_graph_lex = diff_graph_lex[~diff_graph_lex['feature'].isin(['num_inf', 'num_gerunds',\n",
    "                                                                 'num_pres_sing', 'num_past_simple',\n",
    "                                                                 'mci', 'freq_aux', 'freq_finite_forms'])]\n",
    "sns.set(rc={'figure.figsize':(20,10)})\n",
    "sns_plt = sns.barplot(x=\"feature\", y=\"mean\", hue=\"part\", data=_diff_graph_lex, palette=\"Set2\")\n",
    "sns_plt.figure.savefig('/Users/ira/Downloads/REALEC_Inspector/graphs/part_difference/difference_rest_morph_2.png')"
   ]
  },
  {
   "cell_type": "markdown",
   "metadata": {},
   "source": [
    "## Syntactic"
   ]
  },
  {
   "cell_type": "code",
   "execution_count": 25,
   "metadata": {},
   "outputs": [
    {
     "data": {
      "text/html": [
       "<div>\n",
       "<style scoped>\n",
       "    .dataframe tbody tr th:only-of-type {\n",
       "        vertical-align: middle;\n",
       "    }\n",
       "\n",
       "    .dataframe tbody tr th {\n",
       "        vertical-align: top;\n",
       "    }\n",
       "\n",
       "    .dataframe thead th {\n",
       "        text-align: right;\n",
       "    }\n",
       "</style>\n",
       "<table border=\"1\" class=\"dataframe\">\n",
       "  <thead>\n",
       "    <tr style=\"text-align: right;\">\n",
       "      <th></th>\n",
       "      <th>feature</th>\n",
       "      <th>part</th>\n",
       "      <th>mean</th>\n",
       "    </tr>\n",
       "  </thead>\n",
       "  <tbody>\n",
       "    <tr>\n",
       "      <th>0</th>\n",
       "      <td>num_poss</td>\n",
       "      <td>first part</td>\n",
       "      <td>8.612</td>\n",
       "    </tr>\n",
       "    <tr>\n",
       "      <th>1</th>\n",
       "      <td>num_sent</td>\n",
       "      <td>first part</td>\n",
       "      <td>7.036</td>\n",
       "    </tr>\n",
       "    <tr>\n",
       "      <th>2</th>\n",
       "      <td>num_tok</td>\n",
       "      <td>first part</td>\n",
       "      <td>141.441</td>\n",
       "    </tr>\n",
       "    <tr>\n",
       "      <th>3</th>\n",
       "      <td>num_tu</td>\n",
       "      <td>first part</td>\n",
       "      <td>8.810</td>\n",
       "    </tr>\n",
       "    <tr>\n",
       "      <th>4</th>\n",
       "      <td>num_adj_noun</td>\n",
       "      <td>first part</td>\n",
       "      <td>8.319</td>\n",
       "    </tr>\n",
       "  </tbody>\n",
       "</table>\n",
       "</div>"
      ],
      "text/plain": [
       "        feature        part     mean\n",
       "0      num_poss  first part    8.612\n",
       "1      num_sent  first part    7.036\n",
       "2       num_tok  first part  141.441\n",
       "3        num_tu  first part    8.810\n",
       "4  num_adj_noun  first part    8.319"
      ]
     },
     "execution_count": 25,
     "metadata": {},
     "output_type": "execute_result"
    }
   ],
   "source": [
    "diff_graph_lex = diff_graph[diff_graph['group'] == 'syntactic']\n",
    "diff_graph_lex = diff_graph_lex.drop(['group'], axis=1)\n",
    "diff_graph_lex = pd.melt(diff_graph_lex, id_vars=\"feature\", var_name=\"part\", value_name=\"mean\")\n",
    "diff_graph_lex.head()"
   ]
  },
  {
   "cell_type": "code",
   "execution_count": 26,
   "metadata": {},
   "outputs": [
    {
     "data": {
      "image/png": "[encoded data removed]",
      "text/plain": [
       "<Figure size 1440x720 with 1 Axes>"
      ]
     },
     "metadata": {},
     "output_type": "display_data"
    }
   ],
   "source": [
    "_diff_graph_lex = diff_graph_lex[~diff_graph_lex['feature'].isin(['num_inf', 'num_gerunds',\n",
    "                                                                 'num_pres_sing', 'num_past_simple',\n",
    "                                                                 'mci', 'freq_aux', 'freq_finite_forms'])]\n",
    "sns.set(rc={'figure.figsize':(20,10)})\n",
    "sns_plt = sns.barplot(x=\"feature\", y=\"mean\", hue=\"part\", data=_diff_graph_lex, palette=\"Set2\")\n",
    "loc, labels = plt.xticks()\n",
    "sns_plt.set_xticklabels(labels, rotation=90)\n",
    "sns_plt.figure.savefig('/Users/ira/Downloads/REALEC_Inspector/graphs/part_difference/difference_syntactic.png')"
   ]
  },
  {
   "cell_type": "markdown",
   "metadata": {},
   "source": [
    "## Discursive"
   ]
  },
  {
   "cell_type": "code",
   "execution_count": 27,
   "metadata": {},
   "outputs": [
    {
     "data": {
      "text/html": [
       "<div>\n",
       "<style scoped>\n",
       "    .dataframe tbody tr th:only-of-type {\n",
       "        vertical-align: middle;\n",
       "    }\n",
       "\n",
       "    .dataframe tbody tr th {\n",
       "        vertical-align: top;\n",
       "    }\n",
       "\n",
       "    .dataframe thead th {\n",
       "        text-align: right;\n",
       "    }\n",
       "</style>\n",
       "<table border=\"1\" class=\"dataframe\">\n",
       "  <thead>\n",
       "    <tr style=\"text-align: right;\">\n",
       "      <th></th>\n",
       "      <th>feature</th>\n",
       "      <th>part</th>\n",
       "      <th>mean</th>\n",
       "    </tr>\n",
       "  </thead>\n",
       "  <tbody>\n",
       "    <tr>\n",
       "      <th>0</th>\n",
       "      <td>num_linkings</td>\n",
       "      <td>first part</td>\n",
       "      <td>6.294</td>\n",
       "    </tr>\n",
       "    <tr>\n",
       "      <th>1</th>\n",
       "      <td>num_shell_noun</td>\n",
       "      <td>first part</td>\n",
       "      <td>1.100</td>\n",
       "    </tr>\n",
       "    <tr>\n",
       "      <th>2</th>\n",
       "      <td>num_4grams</td>\n",
       "      <td>first part</td>\n",
       "      <td>3.407</td>\n",
       "    </tr>\n",
       "    <tr>\n",
       "      <th>3</th>\n",
       "      <td>num_func_ngrams</td>\n",
       "      <td>first part</td>\n",
       "      <td>0.697</td>\n",
       "    </tr>\n",
       "    <tr>\n",
       "      <th>4</th>\n",
       "      <td>num_linkings</td>\n",
       "      <td>second part</td>\n",
       "      <td>5.503</td>\n",
       "    </tr>\n",
       "  </tbody>\n",
       "</table>\n",
       "</div>"
      ],
      "text/plain": [
       "           feature         part   mean\n",
       "0     num_linkings   first part  6.294\n",
       "1   num_shell_noun   first part  1.100\n",
       "2       num_4grams   first part  3.407\n",
       "3  num_func_ngrams   first part  0.697\n",
       "4     num_linkings  second part  5.503"
      ]
     },
     "execution_count": 27,
     "metadata": {},
     "output_type": "execute_result"
    }
   ],
   "source": [
    "diff_graph_lex = diff_graph[diff_graph['group'] == 'discursive']\n",
    "diff_graph_lex = diff_graph_lex.drop(['group'], axis=1)\n",
    "diff_graph_lex = pd.melt(diff_graph_lex, id_vars=\"feature\", var_name=\"part\", value_name=\"mean\")\n",
    "diff_graph_lex.head()"
   ]
  },
  {
   "cell_type": "code",
   "execution_count": 28,
   "metadata": {},
   "outputs": [
    {
     "data": {
      "image/png": "[encoded data removed]",
      "text/plain": [
       "<Figure size 1440x720 with 1 Axes>"
      ]
     },
     "metadata": {},
     "output_type": "display_data"
    }
   ],
   "source": [
    "_diff_graph_lex = diff_graph_lex[~diff_graph_lex['feature'].isin(['num_inf', 'num_gerunds',\n",
    "                                                                 'num_pres_sing', 'num_past_simple',\n",
    "                                                                 'mci', 'freq_aux', 'freq_finite_forms'])]\n",
    "sns.set(rc={'figure.figsize':(20,10)})\n",
    "sns_plt = sns.barplot(x=\"feature\", y=\"mean\", hue=\"part\", data=_diff_graph_lex, palette=\"Set2\")\n",
    "sns_plt.figure.savefig('/Users/ira/Downloads/REALEC_Inspector/graphs/part_difference/discursive.png')"
   ]
  },
  {
   "cell_type": "markdown",
   "metadata": {},
   "source": [
    "## L1 Interference"
   ]
  },
  {
   "cell_type": "code",
   "execution_count": 29,
   "metadata": {},
   "outputs": [
    {
     "data": {
      "text/html": [
       "<div>\n",
       "<style scoped>\n",
       "    .dataframe tbody tr th:only-of-type {\n",
       "        vertical-align: middle;\n",
       "    }\n",
       "\n",
       "    .dataframe tbody tr th {\n",
       "        vertical-align: top;\n",
       "    }\n",
       "\n",
       "    .dataframe thead th {\n",
       "        text-align: right;\n",
       "    }\n",
       "</style>\n",
       "<table border=\"1\" class=\"dataframe\">\n",
       "  <thead>\n",
       "    <tr style=\"text-align: right;\">\n",
       "      <th></th>\n",
       "      <th>feature</th>\n",
       "      <th>part</th>\n",
       "      <th>mean</th>\n",
       "    </tr>\n",
       "  </thead>\n",
       "  <tbody>\n",
       "    <tr>\n",
       "      <th>0</th>\n",
       "      <td>num_misspelled_tokens</td>\n",
       "      <td>first part</td>\n",
       "      <td>1.579</td>\n",
       "    </tr>\n",
       "    <tr>\n",
       "      <th>1</th>\n",
       "      <td>million_mistake</td>\n",
       "      <td>first part</td>\n",
       "      <td>0.165</td>\n",
       "    </tr>\n",
       "    <tr>\n",
       "      <th>2</th>\n",
       "      <td>num_misspelled_tokens</td>\n",
       "      <td>second part</td>\n",
       "      <td>1.282</td>\n",
       "    </tr>\n",
       "    <tr>\n",
       "      <th>3</th>\n",
       "      <td>million_mistake</td>\n",
       "      <td>second part</td>\n",
       "      <td>0.094</td>\n",
       "    </tr>\n",
       "  </tbody>\n",
       "</table>\n",
       "</div>"
      ],
      "text/plain": [
       "                 feature         part   mean\n",
       "0  num_misspelled_tokens   first part  1.579\n",
       "1        million_mistake   first part  0.165\n",
       "2  num_misspelled_tokens  second part  1.282\n",
       "3        million_mistake  second part  0.094"
      ]
     },
     "execution_count": 29,
     "metadata": {},
     "output_type": "execute_result"
    }
   ],
   "source": [
    "diff_graph_lex = diff_graph[diff_graph['group'] == 'l1_interference']\n",
    "diff_graph_lex = diff_graph_lex.drop(['group'], axis=1)\n",
    "diff_graph_lex = pd.melt(diff_graph_lex, id_vars=\"feature\", var_name=\"part\", value_name=\"mean\")\n",
    "diff_graph_lex.head()"
   ]
  },
  {
   "cell_type": "code",
   "execution_count": 30,
   "metadata": {},
   "outputs": [
    {
     "data": {
      "image/png": "[encoded data removed]",
      "text/plain": [
       "<Figure size 1440x720 with 1 Axes>"
      ]
     },
     "metadata": {},
     "output_type": "display_data"
    }
   ],
   "source": [
    "_diff_graph_lex = diff_graph_lex[~diff_graph_lex['feature'].isin(['num_inf', 'num_gerunds',\n",
    "                                                                 'num_pres_sing', 'num_past_simple',\n",
    "                                                                 'mci', 'freq_aux', 'freq_finite_forms'])]\n",
    "sns.set(rc={'figure.figsize':(20,10)})\n",
    "sns_plt = sns.barplot(x=\"feature\", y=\"mean\", hue=\"part\", data=_diff_graph_lex, palette=\"Set2\")\n",
    "sns_plt.figure.savefig('/Users/ira/Downloads/REALEC_Inspector/graphs/part_difference/l1.png')"
   ]
  },
  {
   "cell_type": "code",
   "execution_count": null,
   "metadata": {},
   "outputs": [],
   "source": []
  }
 ],
 "metadata": {
  "kernelspec": {
   "display_name": "realec",
   "language": "python",
   "name": "realec"
  },
  "language_info": {
   "codemirror_mode": {
    "name": "ipython",
    "version": 3
   },
   "file_extension": ".py",
   "mimetype": "text/x-python",
   "name": "python",
   "nbconvert_exporter": "python",
   "pygments_lexer": "ipython3",
   "version": "3.6.8"
  }
 },
 "nbformat": 4,
 "nbformat_minor": 2
}
