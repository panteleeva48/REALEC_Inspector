{
 "cells": [
  {
   "cell_type": "code",
   "execution_count": 1,
   "metadata": {},
   "outputs": [],
   "source": [
    "import pandas as pd\n",
    "import ssl\n",
    "import matplotlib.pyplot as plt\n",
    "import seaborn as sns\n",
    "\n",
    "%matplotlib inline \n",
    "\n",
    "ssl._create_default_https_context = ssl._create_unverified_context"
   ]
  },
  {
   "cell_type": "markdown",
   "metadata": {},
   "source": [
    "# Features"
   ]
  },
  {
   "cell_type": "code",
   "execution_count": 20,
   "metadata": {},
   "outputs": [
    {
     "data": {
      "text/html": [
       "<div>\n",
       "<style scoped>\n",
       "    .dataframe tbody tr th:only-of-type {\n",
       "        vertical-align: middle;\n",
       "    }\n",
       "\n",
       "    .dataframe tbody tr th {\n",
       "        vertical-align: top;\n",
       "    }\n",
       "\n",
       "    .dataframe thead th {\n",
       "        text-align: right;\n",
       "    }\n",
       "</style>\n",
       "<table border=\"1\" class=\"dataframe\">\n",
       "  <thead>\n",
       "    <tr style=\"text-align: right;\">\n",
       "      <th></th>\n",
       "      <th>av_depth</th>\n",
       "      <th>max_depth</th>\n",
       "      <th>min_depth</th>\n",
       "      <th>num_acl</th>\n",
       "      <th>num_rel_cl</th>\n",
       "      <th>num_advcl</th>\n",
       "      <th>num_sent</th>\n",
       "      <th>num_tok</th>\n",
       "      <th>av_tok_before_root</th>\n",
       "      <th>av_len_sent</th>\n",
       "      <th>...</th>\n",
       "      <th>punct_mistakes_because</th>\n",
       "      <th>punct_mistakes_but</th>\n",
       "      <th>punct_mistakes_compare</th>\n",
       "      <th>million_mistake</th>\n",
       "      <th>side_mistake</th>\n",
       "      <th>name</th>\n",
       "      <th>text</th>\n",
       "      <th>class</th>\n",
       "      <th>type</th>\n",
       "      <th>sum_punct</th>\n",
       "    </tr>\n",
       "  </thead>\n",
       "  <tbody>\n",
       "    <tr>\n",
       "      <th>0</th>\n",
       "      <td>3.56</td>\n",
       "      <td>6</td>\n",
       "      <td>2</td>\n",
       "      <td>2</td>\n",
       "      <td>0</td>\n",
       "      <td>1</td>\n",
       "      <td>18</td>\n",
       "      <td>244</td>\n",
       "      <td>4.39</td>\n",
       "      <td>13.56</td>\n",
       "      <td>...</td>\n",
       "      <td>0</td>\n",
       "      <td>0</td>\n",
       "      <td>0</td>\n",
       "      <td>0</td>\n",
       "      <td>0</td>\n",
       "      <td>./data/exam/exam2017/OBy_146_1</td>\n",
       "      <td>This two line graphs illustrates monthly avera...</td>\n",
       "      <td>60</td>\n",
       "      <td>1</td>\n",
       "      <td>0</td>\n",
       "    </tr>\n",
       "    <tr>\n",
       "      <th>1</th>\n",
       "      <td>5.43</td>\n",
       "      <td>10</td>\n",
       "      <td>4</td>\n",
       "      <td>1</td>\n",
       "      <td>3</td>\n",
       "      <td>1</td>\n",
       "      <td>7</td>\n",
       "      <td>175</td>\n",
       "      <td>6.29</td>\n",
       "      <td>25.00</td>\n",
       "      <td>...</td>\n",
       "      <td>0</td>\n",
       "      <td>0</td>\n",
       "      <td>0</td>\n",
       "      <td>0</td>\n",
       "      <td>0</td>\n",
       "      <td>./data/exam/exam2017/EGe_15_1</td>\n",
       "      <td>﻿We have two graphics, which show us the popul...</td>\n",
       "      <td>65</td>\n",
       "      <td>1</td>\n",
       "      <td>0</td>\n",
       "    </tr>\n",
       "    <tr>\n",
       "      <th>2</th>\n",
       "      <td>3.81</td>\n",
       "      <td>6</td>\n",
       "      <td>0</td>\n",
       "      <td>5</td>\n",
       "      <td>0</td>\n",
       "      <td>13</td>\n",
       "      <td>16</td>\n",
       "      <td>292</td>\n",
       "      <td>4.56</td>\n",
       "      <td>18.25</td>\n",
       "      <td>...</td>\n",
       "      <td>0</td>\n",
       "      <td>1</td>\n",
       "      <td>0</td>\n",
       "      <td>0</td>\n",
       "      <td>0</td>\n",
       "      <td>./data/exam/exam2017/DOv_2_2</td>\n",
       "      <td>More and more young people are stunding on the...</td>\n",
       "      <td>60</td>\n",
       "      <td>2</td>\n",
       "      <td>1</td>\n",
       "    </tr>\n",
       "  </tbody>\n",
       "</table>\n",
       "<p>3 rows × 77 columns</p>\n",
       "</div>"
      ],
      "text/plain": [
       "   av_depth  max_depth  min_depth  num_acl  num_rel_cl  num_advcl  num_sent  \\\n",
       "0      3.56          6          2        2           0          1        18   \n",
       "1      5.43         10          4        1           3          1         7   \n",
       "2      3.81          6          0        5           0         13        16   \n",
       "\n",
       "   num_tok  av_tok_before_root  av_len_sent  ...  punct_mistakes_because  \\\n",
       "0      244                4.39        13.56  ...                       0   \n",
       "1      175                6.29        25.00  ...                       0   \n",
       "2      292                4.56        18.25  ...                       0   \n",
       "\n",
       "   punct_mistakes_but  punct_mistakes_compare  million_mistake  side_mistake  \\\n",
       "0                   0                       0                0             0   \n",
       "1                   0                       0                0             0   \n",
       "2                   1                       0                0             0   \n",
       "\n",
       "                             name  \\\n",
       "0  ./data/exam/exam2017/OBy_146_1   \n",
       "1   ./data/exam/exam2017/EGe_15_1   \n",
       "2    ./data/exam/exam2017/DOv_2_2   \n",
       "\n",
       "                                                text  class  type  sum_punct  \n",
       "0  This two line graphs illustrates monthly avera...     60     1          0  \n",
       "1  ﻿We have two graphics, which show us the popul...     65     1          0  \n",
       "2  More and more young people are stunding on the...     60     2          1  \n",
       "\n",
       "[3 rows x 77 columns]"
      ]
     },
     "execution_count": 20,
     "metadata": {},
     "output_type": "execute_result"
    }
   ],
   "source": [
    "df = pd.read_csv('/Users/ira/Downloads/REALEC_Inspector/data/feature_result.csv')\n",
    "df = df[df['type'] != 4]\n",
    "df['sum_punct'] = df[['punct_mistakes_pp', 'punct_mistakes_because',\n",
    "                      'punct_mistakes_but', 'punct_mistakes_compare',]].sum(axis=1)\n",
    "df = df.round(2)\n",
    "df.head(3)"
   ]
  },
  {
   "cell_type": "code",
   "execution_count": 77,
   "metadata": {},
   "outputs": [
    {
     "data": {
      "text/plain": [
       "(173, 77)"
      ]
     },
     "execution_count": 77,
     "metadata": {},
     "output_type": "execute_result"
    }
   ],
   "source": [
    "df[df['punct_mistakes_compare'] != 0].shape"
   ]
  },
  {
   "cell_type": "code",
   "execution_count": 76,
   "metadata": {},
   "outputs": [
    {
     "data": {
      "text/plain": [
       "(3441, 77)"
      ]
     },
     "execution_count": 76,
     "metadata": {},
     "output_type": "execute_result"
    }
   ],
   "source": [
    "df.shape"
   ]
  },
  {
   "cell_type": "code",
   "execution_count": 21,
   "metadata": {},
   "outputs": [],
   "source": [
    "targets = []\n",
    "for t in df['class']:\n",
    "    if int(t) >= 70:\n",
    "        targets.append('best')\n",
    "    else:\n",
    "        targets.append('not_best')\n",
    "df['class'] = targets"
   ]
  },
  {
   "cell_type": "code",
   "execution_count": 22,
   "metadata": {},
   "outputs": [
    {
     "data": {
      "text/plain": [
       "{1, 2}"
      ]
     },
     "execution_count": 22,
     "metadata": {},
     "output_type": "execute_result"
    }
   ],
   "source": [
    "set(df['type'].to_list())"
   ]
  },
  {
   "cell_type": "code",
   "execution_count": 23,
   "metadata": {},
   "outputs": [],
   "source": [
    "def plot_box_plot(feature, df):\n",
    "    sns_plt = sns.boxplot(x=\"class\", y=feature, data=df, palette=\"Set2\")\n",
    "    return sns_plt"
   ]
  },
  {
   "cell_type": "code",
   "execution_count": 24,
   "metadata": {},
   "outputs": [],
   "source": [
    "df_1 = df[df['type'] == 1]\n",
    "df_2 = df[df['type'] == 2]"
   ]
  },
  {
   "cell_type": "code",
   "execution_count": 25,
   "metadata": {},
   "outputs": [],
   "source": [
    "feature_columns = list(df.columns)\n",
    "feature_columns.remove('class')\n",
    "feature_columns.remove('name')\n",
    "feature_columns.remove('text')\n",
    "feature_columns.remove('type')"
   ]
  },
  {
   "cell_type": "code",
   "execution_count": 26,
   "metadata": {},
   "outputs": [
    {
     "data": {
      "text/plain": [
       "<Figure size 432x288 with 0 Axes>"
      ]
     },
     "metadata": {},
     "output_type": "display_data"
    }
   ],
   "source": [
    "for feature in feature_columns:\n",
    "    sns_plt = plot_box_plot(feature, df_1)\n",
    "    sns_plt.figure.savefig('/Users/ira/Downloads/REALEC_Inspector/graphs/boxplots/type_1/'+ feature +'_boxplot.png')\n",
    "    plt.clf()"
   ]
  },
  {
   "cell_type": "code",
   "execution_count": 27,
   "metadata": {},
   "outputs": [
    {
     "data": {
      "text/plain": [
       "<Figure size 432x288 with 0 Axes>"
      ]
     },
     "metadata": {},
     "output_type": "display_data"
    }
   ],
   "source": [
    "for feature in feature_columns:\n",
    "    sns_plt = plot_box_plot(feature, df_2)\n",
    "    sns_plt.figure.savefig('/Users/ira/Downloads/REALEC_Inspector/graphs/boxplots/type_2/'+ feature +'_boxplot.png')\n",
    "    plt.clf()"
   ]
  },
  {
   "cell_type": "code",
   "execution_count": 28,
   "metadata": {},
   "outputs": [
    {
     "data": {
      "text/plain": [
       "<Figure size 432x288 with 0 Axes>"
      ]
     },
     "metadata": {},
     "output_type": "display_data"
    }
   ],
   "source": [
    "for feature in feature_columns:\n",
    "    sns_plt = plot_box_plot(feature, df)\n",
    "    sns_plt.figure.savefig('/Users/ira/Downloads/REALEC_Inspector/graphs/boxplots/together/'+ feature +'_boxplot.png')\n",
    "    plt.clf()"
   ]
  },
  {
   "cell_type": "markdown",
   "metadata": {},
   "source": [
    "# Line of the feature"
   ]
  },
  {
   "cell_type": "code",
   "execution_count": 38,
   "metadata": {},
   "outputs": [],
   "source": [
    "import numpy as np"
   ]
  },
  {
   "cell_type": "code",
   "execution_count": 66,
   "metadata": {},
   "outputs": [],
   "source": [
    "def plot_line(list_values, feature):\n",
    "    sorted_list_values = sorted(list_values)\n",
    "    df = pd.DataFrame(data = {'number': range(len(sorted_list_values)),\n",
    "                              feature: sorted_list_values})\n",
    "    ax = sns.lineplot(x='number', y=feature, data=df, palette=\"Set2\")\n",
    "    return ax"
   ]
  },
  {
   "cell_type": "code",
   "execution_count": 67,
   "metadata": {},
   "outputs": [
    {
     "data": {
      "image/png": "[encoded data removed]",
      "text/plain": [
       "<Figure size 432x288 with 1 Axes>"
      ]
     },
     "metadata": {},
     "output_type": "display_data"
    }
   ],
   "source": [
    "list_values = df_1['min_depth'].tolist()\n",
    "sns_plt = plot_line(list_values, 'min_depth')"
   ]
  },
  {
   "cell_type": "code",
   "execution_count": 69,
   "metadata": {},
   "outputs": [
    {
     "data": {
      "text/plain": [
       "<Figure size 432x288 with 0 Axes>"
      ]
     },
     "metadata": {},
     "output_type": "display_data"
    }
   ],
   "source": [
    "for feature in feature_columns:\n",
    "    list_values = df_1[feature].tolist()\n",
    "    sns_plt = plot_line(list_values, feature)\n",
    "    sns_plt.figure.savefig('/Users/ira/Downloads/REALEC_Inspector/graphs/lines/type_1/'+ feature +'_line.png')\n",
    "    plt.clf()"
   ]
  },
  {
   "cell_type": "code",
   "execution_count": 70,
   "metadata": {},
   "outputs": [
    {
     "data": {
      "text/plain": [
       "<Figure size 432x288 with 0 Axes>"
      ]
     },
     "metadata": {},
     "output_type": "display_data"
    }
   ],
   "source": [
    "for feature in feature_columns:\n",
    "    list_values = df_2[feature].tolist()\n",
    "    sns_plt = plot_line(list_values, feature)\n",
    "    sns_plt.figure.savefig('/Users/ira/Downloads/REALEC_Inspector/graphs/lines/type_2/'+ feature +'_line.png')\n",
    "    plt.clf()"
   ]
  },
  {
   "cell_type": "code",
   "execution_count": 71,
   "metadata": {},
   "outputs": [
    {
     "data": {
      "text/plain": [
       "<Figure size 432x288 with 0 Axes>"
      ]
     },
     "metadata": {},
     "output_type": "display_data"
    }
   ],
   "source": [
    "for feature in feature_columns:\n",
    "    list_values = df[feature].tolist()\n",
    "    sns_plt = plot_line(list_values, feature)\n",
    "    sns_plt.figure.savefig('/Users/ira/Downloads/REALEC_Inspector/graphs/lines/together/'+ feature +'_line.png')\n",
    "    plt.clf()"
   ]
  },
  {
   "cell_type": "code",
   "execution_count": null,
   "metadata": {},
   "outputs": [],
   "source": [
    "пше"
   ]
  }
 ],
 "metadata": {
  "kernelspec": {
   "display_name": "realec",
   "language": "python",
   "name": "realec"
  },
  "language_info": {
   "codemirror_mode": {
    "name": "ipython",
    "version": 3
   },
   "file_extension": ".py",
   "mimetype": "text/x-python",
   "name": "python",
   "nbconvert_exporter": "python",
   "pygments_lexer": "ipython3",
   "version": "3.6.8"
  }
 },
 "nbformat": 4,
 "nbformat_minor": 2
}
