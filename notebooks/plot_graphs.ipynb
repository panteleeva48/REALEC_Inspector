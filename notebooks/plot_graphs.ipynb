{
 "cells": [
  {
   "cell_type": "code",
   "execution_count": 3,
   "metadata": {},
   "outputs": [],
   "source": [
    "import pandas as pd\n",
    "import ssl\n",
    "import matplotlib.pyplot as plt\n",
    "import seaborn as sns\n",
    "\n",
    "%matplotlib inline \n",
    "\n",
    "ssl._create_default_https_context = ssl._create_unverified_context"
   ]
  },
  {
   "cell_type": "markdown",
   "metadata": {},
   "source": [
    "# Features"
   ]
  },
  {
   "cell_type": "code",
   "execution_count": 15,
   "metadata": {},
   "outputs": [],
   "source": [
    "# df = pd.read_csv('/Users/ira/Downloads/REALEC_Inspector/data/feature_result.csv')\n",
    "# df = df[df['type'] != 4]\n",
    "# df['sum_punct'] = df[['punct_mistakes_pp', 'punct_mistakes_because',\n",
    "#                       'punct_mistakes_but', 'punct_mistakes_compare',]].sum(axis=1)\n",
    "# df = df.round(2)"
   ]
  },
  {
   "cell_type": "code",
   "execution_count": 77,
   "metadata": {},
   "outputs": [
    {
     "data": {
      "text/plain": [
       "(173, 77)"
      ]
     },
     "execution_count": 77,
     "metadata": {},
     "output_type": "execute_result"
    }
   ],
   "source": [
    "df[df['punct_mistakes_compare'] != 0].shape"
   ]
  },
  {
   "cell_type": "code",
   "execution_count": 76,
   "metadata": {},
   "outputs": [
    {
     "data": {
      "text/plain": [
       "(3441, 77)"
      ]
     },
     "execution_count": 76,
     "metadata": {},
     "output_type": "execute_result"
    }
   ],
   "source": [
    "df.shape"
   ]
  },
  {
   "cell_type": "code",
   "execution_count": 21,
   "metadata": {},
   "outputs": [],
   "source": [
    "targets = []\n",
    "for t in df['class']:\n",
    "    if int(t) >= 70:\n",
    "        targets.append('best')\n",
    "    else:\n",
    "        targets.append('not_best')\n",
    "df['class'] = targets"
   ]
  },
  {
   "cell_type": "code",
   "execution_count": 22,
   "metadata": {},
   "outputs": [
    {
     "data": {
      "text/plain": [
       "{1, 2}"
      ]
     },
     "execution_count": 22,
     "metadata": {},
     "output_type": "execute_result"
    }
   ],
   "source": [
    "set(df['type'].to_list())"
   ]
  },
  {
   "cell_type": "code",
   "execution_count": 23,
   "metadata": {},
   "outputs": [],
   "source": [
    "def plot_box_plot(feature, df):\n",
    "    sns_plt = sns.boxplot(x=\"class\", y=feature, data=df, palette=\"Set2\")\n",
    "    return sns_plt"
   ]
  },
  {
   "cell_type": "code",
   "execution_count": 24,
   "metadata": {},
   "outputs": [],
   "source": [
    "df_1 = df[df['type'] == 1]\n",
    "df_2 = df[df['type'] == 2]"
   ]
  },
  {
   "cell_type": "code",
   "execution_count": 25,
   "metadata": {},
   "outputs": [],
   "source": [
    "feature_columns = list(df.columns)\n",
    "feature_columns.remove('class')\n",
    "feature_columns.remove('name')\n",
    "feature_columns.remove('text')\n",
    "feature_columns.remove('type')"
   ]
  },
  {
   "cell_type": "code",
   "execution_count": 26,
   "metadata": {},
   "outputs": [
    {
     "data": {
      "text/plain": [
       "<Figure size 432x288 with 0 Axes>"
      ]
     },
     "metadata": {},
     "output_type": "display_data"
    }
   ],
   "source": [
    "for feature in feature_columns:\n",
    "    sns_plt = plot_box_plot(feature, df_1)\n",
    "    sns_plt.figure.savefig('/Users/ira/Downloads/REALEC_Inspector/graphs/boxplots/type_1/'+ feature +'_boxplot.png')\n",
    "    plt.clf()"
   ]
  },
  {
   "cell_type": "code",
   "execution_count": 27,
   "metadata": {},
   "outputs": [
    {
     "data": {
      "text/plain": [
       "<Figure size 432x288 with 0 Axes>"
      ]
     },
     "metadata": {},
     "output_type": "display_data"
    }
   ],
   "source": [
    "for feature in feature_columns:\n",
    "    sns_plt = plot_box_plot(feature, df_2)\n",
    "    sns_plt.figure.savefig('/Users/ira/Downloads/REALEC_Inspector/graphs/boxplots/type_2/'+ feature +'_boxplot.png')\n",
    "    plt.clf()"
   ]
  },
  {
   "cell_type": "code",
   "execution_count": 28,
   "metadata": {},
   "outputs": [
    {
     "data": {
      "text/plain": [
       "<Figure size 432x288 with 0 Axes>"
      ]
     },
     "metadata": {},
     "output_type": "display_data"
    }
   ],
   "source": [
    "for feature in feature_columns:\n",
    "    sns_plt = plot_box_plot(feature, df)\n",
    "    sns_plt.figure.savefig('/Users/ira/Downloads/REALEC_Inspector/graphs/boxplots/together/'+ feature +'_boxplot.png')\n",
    "    plt.clf()"
   ]
  },
  {
   "cell_type": "markdown",
   "metadata": {},
   "source": [
    "# Line of the feature"
   ]
  },
  {
   "cell_type": "code",
   "execution_count": 38,
   "metadata": {},
   "outputs": [],
   "source": [
    "import numpy as np"
   ]
  },
  {
   "cell_type": "code",
   "execution_count": 66,
   "metadata": {},
   "outputs": [],
   "source": [
    "def plot_line(list_values, feature):\n",
    "    sorted_list_values = sorted(list_values)\n",
    "    df = pd.DataFrame(data = {'number': range(len(sorted_list_values)),\n",
    "                              feature: sorted_list_values})\n",
    "    ax = sns.lineplot(x='number', y=feature, data=df, palette=\"Set2\")\n",
    "    return ax"
   ]
  },
  {
   "cell_type": "code",
   "execution_count": 67,
   "metadata": {},
   "outputs": [
    {
     "data": {
      "image/png": "[encoded data removed]",
      "text/plain": [
       "<Figure size 432x288 with 1 Axes>"
      ]
     },
     "metadata": {},
     "output_type": "display_data"
    }
   ],
   "source": [
    "list_values = df_1['min_depth'].tolist()\n",
    "sns_plt = plot_line(list_values, 'min_depth')"
   ]
  },
  {
   "cell_type": "code",
   "execution_count": 69,
   "metadata": {},
   "outputs": [
    {
     "data": {
      "text/plain": [
       "<Figure size 432x288 with 0 Axes>"
      ]
     },
     "metadata": {},
     "output_type": "display_data"
    }
   ],
   "source": [
    "for feature in feature_columns:\n",
    "    list_values = df_1[feature].tolist()\n",
    "    sns_plt = plot_line(list_values, feature)\n",
    "    sns_plt.figure.savefig('/Users/ira/Downloads/REALEC_Inspector/graphs/lines/type_1/'+ feature +'_line.png')\n",
    "    plt.clf()"
   ]
  },
  {
   "cell_type": "code",
   "execution_count": 70,
   "metadata": {},
   "outputs": [
    {
     "data": {
      "text/plain": [
       "<Figure size 432x288 with 0 Axes>"
      ]
     },
     "metadata": {},
     "output_type": "display_data"
    }
   ],
   "source": [
    "for feature in feature_columns:\n",
    "    list_values = df_2[feature].tolist()\n",
    "    sns_plt = plot_line(list_values, feature)\n",
    "    sns_plt.figure.savefig('/Users/ira/Downloads/REALEC_Inspector/graphs/lines/type_2/'+ feature +'_line.png')\n",
    "    plt.clf()"
   ]
  },
  {
   "cell_type": "code",
   "execution_count": 71,
   "metadata": {},
   "outputs": [
    {
     "data": {
      "text/plain": [
       "<Figure size 432x288 with 0 Axes>"
      ]
     },
     "metadata": {},
     "output_type": "display_data"
    }
   ],
   "source": [
    "for feature in feature_columns:\n",
    "    list_values = df[feature].tolist()\n",
    "    sns_plt = plot_line(list_values, feature)\n",
    "    sns_plt.figure.savefig('/Users/ira/Downloads/REALEC_Inspector/graphs/lines/together/'+ feature +'_line.png')\n",
    "    plt.clf()"
   ]
  },
  {
   "cell_type": "markdown",
   "metadata": {},
   "source": [
    "# Links and n-grams"
   ]
  },
  {
   "cell_type": "code",
   "execution_count": 4,
   "metadata": {},
   "outputs": [],
   "source": [
    "df = pd.read_csv('/Users/ira/Downloads/REALEC_Inspector/results/links_ngrams_result.csv')"
   ]
  },
  {
   "cell_type": "code",
   "execution_count": 5,
   "metadata": {},
   "outputs": [
    {
     "data": {
      "text/html": [
       "<div>\n",
       "<style scoped>\n",
       "    .dataframe tbody tr th:only-of-type {\n",
       "        vertical-align: middle;\n",
       "    }\n",
       "\n",
       "    .dataframe tbody tr th {\n",
       "        vertical-align: top;\n",
       "    }\n",
       "\n",
       "    .dataframe thead th {\n",
       "        text-align: right;\n",
       "    }\n",
       "</style>\n",
       "<table border=\"1\" class=\"dataframe\">\n",
       "  <thead>\n",
       "    <tr style=\"text-align: right;\">\n",
       "      <th></th>\n",
       "      <th>name</th>\n",
       "      <th>text</th>\n",
       "      <th>class</th>\n",
       "      <th>type</th>\n",
       "      <th>link_Sentence connectors(Furthermore)</th>\n",
       "      <th>link_Sentence connectors(In addition)</th>\n",
       "      <th>link_Sentence connectors(Moreover)</th>\n",
       "      <th>link_Sentence connectors</th>\n",
       "      <th>link_Phrases linkers(In addition)</th>\n",
       "      <th>link_Phrases linkers</th>\n",
       "      <th>...</th>\n",
       "      <th>4grams_Attitudinal/modality(it is difficult to)</th>\n",
       "      <th>4grams_Attitudinal/modality(it is very difficult)</th>\n",
       "      <th>4grams_Attitudinal/modality(it is hard to)</th>\n",
       "      <th>4grams_Attitudinal/modality(it is not easy)</th>\n",
       "      <th>4grams_Attitudinal/modality(necessary for us to)</th>\n",
       "      <th>4grams_Attitudinal/modality(should learn how to)</th>\n",
       "      <th>4grams_Attitudinal/modality(will not be able to)</th>\n",
       "      <th>4grams_Attitudinal/modality</th>\n",
       "      <th>4grams_Stance</th>\n",
       "      <th>4grams_all</th>\n",
       "    </tr>\n",
       "  </thead>\n",
       "  <tbody>\n",
       "    <tr>\n",
       "      <th>0</th>\n",
       "      <td>./data/exam/exam2017/OBy_146_1</td>\n",
       "      <td>This two line graphs illustrates monthly avera...</td>\n",
       "      <td>60</td>\n",
       "      <td>1</td>\n",
       "      <td>0</td>\n",
       "      <td>0</td>\n",
       "      <td>0</td>\n",
       "      <td>0</td>\n",
       "      <td>0</td>\n",
       "      <td>0</td>\n",
       "      <td>...</td>\n",
       "      <td>0</td>\n",
       "      <td>0</td>\n",
       "      <td>0</td>\n",
       "      <td>0</td>\n",
       "      <td>0</td>\n",
       "      <td>0</td>\n",
       "      <td>0</td>\n",
       "      <td>0</td>\n",
       "      <td>0</td>\n",
       "      <td>0</td>\n",
       "    </tr>\n",
       "    <tr>\n",
       "      <th>1</th>\n",
       "      <td>./data/exam/exam2017/EGe_15_1</td>\n",
       "      <td>﻿We have two graphics, which show us the popul...</td>\n",
       "      <td>65</td>\n",
       "      <td>1</td>\n",
       "      <td>0</td>\n",
       "      <td>0</td>\n",
       "      <td>0</td>\n",
       "      <td>0</td>\n",
       "      <td>0</td>\n",
       "      <td>0</td>\n",
       "      <td>...</td>\n",
       "      <td>0</td>\n",
       "      <td>0</td>\n",
       "      <td>0</td>\n",
       "      <td>0</td>\n",
       "      <td>0</td>\n",
       "      <td>0</td>\n",
       "      <td>0</td>\n",
       "      <td>0</td>\n",
       "      <td>0</td>\n",
       "      <td>0</td>\n",
       "    </tr>\n",
       "    <tr>\n",
       "      <th>2</th>\n",
       "      <td>./data/exam/exam2017/DOv_2_2</td>\n",
       "      <td>More and more young people are stunding on the...</td>\n",
       "      <td>60</td>\n",
       "      <td>2</td>\n",
       "      <td>0</td>\n",
       "      <td>0</td>\n",
       "      <td>0</td>\n",
       "      <td>0</td>\n",
       "      <td>0</td>\n",
       "      <td>0</td>\n",
       "      <td>...</td>\n",
       "      <td>0</td>\n",
       "      <td>0</td>\n",
       "      <td>0</td>\n",
       "      <td>0</td>\n",
       "      <td>0</td>\n",
       "      <td>0</td>\n",
       "      <td>0</td>\n",
       "      <td>1</td>\n",
       "      <td>1</td>\n",
       "      <td>2</td>\n",
       "    </tr>\n",
       "    <tr>\n",
       "      <th>3</th>\n",
       "      <td>./data/exam/exam2017/EGe_61_2</td>\n",
       "      <td>﻿Nowdays we can notice the tendency that large...</td>\n",
       "      <td>65</td>\n",
       "      <td>2</td>\n",
       "      <td>0</td>\n",
       "      <td>0</td>\n",
       "      <td>1</td>\n",
       "      <td>0</td>\n",
       "      <td>0</td>\n",
       "      <td>0</td>\n",
       "      <td>...</td>\n",
       "      <td>0</td>\n",
       "      <td>0</td>\n",
       "      <td>1</td>\n",
       "      <td>0</td>\n",
       "      <td>0</td>\n",
       "      <td>0</td>\n",
       "      <td>0</td>\n",
       "      <td>1</td>\n",
       "      <td>1</td>\n",
       "      <td>3</td>\n",
       "    </tr>\n",
       "    <tr>\n",
       "      <th>4</th>\n",
       "      <td>./data/exam/exam2017/NMya_48_1</td>\n",
       "      <td>The graph gives information about level of une...</td>\n",
       "      <td>55</td>\n",
       "      <td>1</td>\n",
       "      <td>0</td>\n",
       "      <td>0</td>\n",
       "      <td>0</td>\n",
       "      <td>0</td>\n",
       "      <td>0</td>\n",
       "      <td>0</td>\n",
       "      <td>...</td>\n",
       "      <td>0</td>\n",
       "      <td>0</td>\n",
       "      <td>0</td>\n",
       "      <td>0</td>\n",
       "      <td>0</td>\n",
       "      <td>0</td>\n",
       "      <td>0</td>\n",
       "      <td>0</td>\n",
       "      <td>0</td>\n",
       "      <td>0</td>\n",
       "    </tr>\n",
       "  </tbody>\n",
       "</table>\n",
       "<p>5 rows × 169 columns</p>\n",
       "</div>"
      ],
      "text/plain": [
       "                             name  \\\n",
       "0  ./data/exam/exam2017/OBy_146_1   \n",
       "1   ./data/exam/exam2017/EGe_15_1   \n",
       "2    ./data/exam/exam2017/DOv_2_2   \n",
       "3   ./data/exam/exam2017/EGe_61_2   \n",
       "4  ./data/exam/exam2017/NMya_48_1   \n",
       "\n",
       "                                                text  class  type  \\\n",
       "0  This two line graphs illustrates monthly avera...     60     1   \n",
       "1  ﻿We have two graphics, which show us the popul...     65     1   \n",
       "2  More and more young people are stunding on the...     60     2   \n",
       "3  ﻿Nowdays we can notice the tendency that large...     65     2   \n",
       "4  The graph gives information about level of une...     55     1   \n",
       "\n",
       "   link_Sentence connectors(Furthermore)  \\\n",
       "0                                      0   \n",
       "1                                      0   \n",
       "2                                      0   \n",
       "3                                      0   \n",
       "4                                      0   \n",
       "\n",
       "   link_Sentence connectors(In addition)  link_Sentence connectors(Moreover)  \\\n",
       "0                                      0                                   0   \n",
       "1                                      0                                   0   \n",
       "2                                      0                                   0   \n",
       "3                                      0                                   1   \n",
       "4                                      0                                   0   \n",
       "\n",
       "   link_Sentence connectors  link_Phrases linkers(In addition)  \\\n",
       "0                         0                                  0   \n",
       "1                         0                                  0   \n",
       "2                         0                                  0   \n",
       "3                         0                                  0   \n",
       "4                         0                                  0   \n",
       "\n",
       "   link_Phrases linkers  ...  4grams_Attitudinal/modality(it is difficult to)  \\\n",
       "0                     0  ...                                                0   \n",
       "1                     0  ...                                                0   \n",
       "2                     0  ...                                                0   \n",
       "3                     0  ...                                                0   \n",
       "4                     0  ...                                                0   \n",
       "\n",
       "   4grams_Attitudinal/modality(it is very difficult)  \\\n",
       "0                                                  0   \n",
       "1                                                  0   \n",
       "2                                                  0   \n",
       "3                                                  0   \n",
       "4                                                  0   \n",
       "\n",
       "   4grams_Attitudinal/modality(it is hard to)  \\\n",
       "0                                           0   \n",
       "1                                           0   \n",
       "2                                           0   \n",
       "3                                           1   \n",
       "4                                           0   \n",
       "\n",
       "   4grams_Attitudinal/modality(it is not easy)  \\\n",
       "0                                            0   \n",
       "1                                            0   \n",
       "2                                            0   \n",
       "3                                            0   \n",
       "4                                            0   \n",
       "\n",
       "   4grams_Attitudinal/modality(necessary for us to)  \\\n",
       "0                                                 0   \n",
       "1                                                 0   \n",
       "2                                                 0   \n",
       "3                                                 0   \n",
       "4                                                 0   \n",
       "\n",
       "   4grams_Attitudinal/modality(should learn how to)  \\\n",
       "0                                                 0   \n",
       "1                                                 0   \n",
       "2                                                 0   \n",
       "3                                                 0   \n",
       "4                                                 0   \n",
       "\n",
       "   4grams_Attitudinal/modality(will not be able to)  \\\n",
       "0                                                 0   \n",
       "1                                                 0   \n",
       "2                                                 0   \n",
       "3                                                 0   \n",
       "4                                                 0   \n",
       "\n",
       "   4grams_Attitudinal/modality  4grams_Stance  4grams_all  \n",
       "0                            0              0           0  \n",
       "1                            0              0           0  \n",
       "2                            1              1           2  \n",
       "3                            1              1           3  \n",
       "4                            0              0           0  \n",
       "\n",
       "[5 rows x 169 columns]"
      ]
     },
     "execution_count": 5,
     "metadata": {},
     "output_type": "execute_result"
    }
   ],
   "source": [
    "df.head()"
   ]
  },
  {
   "cell_type": "code",
   "execution_count": 4,
   "metadata": {},
   "outputs": [],
   "source": [
    "targets = []\n",
    "for t in df['class']:\n",
    "    if int(t) >= 70:\n",
    "        targets.append('best')\n",
    "    else:\n",
    "        targets.append('not_best')\n",
    "df['class'] = targets"
   ]
  },
  {
   "cell_type": "code",
   "execution_count": 5,
   "metadata": {},
   "outputs": [
    {
     "data": {
      "text/plain": [
       "['name',\n",
       " 'text',\n",
       " 'class',\n",
       " 'type',\n",
       " 'link_Sentence connectors(Furthermore)',\n",
       " 'link_Sentence connectors(In addition)',\n",
       " 'link_Sentence connectors(Moreover)',\n",
       " 'link_Sentence connectors',\n",
       " 'link_Phrases linkers(In addition)',\n",
       " 'link_Phrases linkers',\n",
       " 'link_Addition',\n",
       " 'link_subordinators(Although)',\n",
       " 'link_subordinators(Even though)',\n",
       " 'link_subordinators',\n",
       " 'link_Sentence connectors(However)',\n",
       " 'link_Sentence connectors(Nevertheless)',\n",
       " 'link_Phrase linkers(despite)',\n",
       " 'link_Phrase linkers(In spite of)',\n",
       " 'link_Phrase linkers',\n",
       " 'link_Adversativity',\n",
       " 'link_subordinators(Because)',\n",
       " 'link_subordinators(since)',\n",
       " 'link_Sentence connectors(Therefore)',\n",
       " 'link_Sentence connectors(As a result)',\n",
       " 'link_Sentence connectors(consequently)',\n",
       " 'link_Sentence connectors(Hence)',\n",
       " 'link_Sentence connectors(Thus)',\n",
       " 'link_Phrase linkers(Because of)',\n",
       " 'link_Phrase linkers(Due to)',\n",
       " 'link_Phrase linkers(As a result of)',\n",
       " 'link_Cause and effect',\n",
       " 'link_Sentence connectors(In other words)',\n",
       " 'link_Sentence connectors(That is)',\n",
       " 'link_Sentence connectors(i.e.)',\n",
       " 'link_Clarification',\n",
       " 'link_Subordinators(while)',\n",
       " 'link_Subordinators(whereas)',\n",
       " 'link_Subordinators',\n",
       " 'link_Sentence connectors(In contrast)',\n",
       " 'link_Sentence connectors(On the other hand)',\n",
       " 'link_Sentence connectors(Conversely)',\n",
       " 'link_Phrase linkers(Unlike)',\n",
       " 'link_Contrast',\n",
       " 'link_Sentence connectors(For example)',\n",
       " 'link_Sentence connectors(For instance)',\n",
       " 'link_Illustration',\n",
       " 'link_Sentence connectors(On the contrary)',\n",
       " 'link_Sentence connectors(As a matter of fact)',\n",
       " 'link_Sentence connectors(In fact)',\n",
       " 'link_Intensification',\n",
       " 'link_all',\n",
       " '4grams_Topic elaboration/clarification(and to be a)',\n",
       " '4grams_Topic elaboration/clarification(are more and more)',\n",
       " '4grams_Topic elaboration/clarification(as well as the)',\n",
       " '4grams_Topic elaboration/clarification(but there are still)',\n",
       " '4grams_Topic elaboration/clarification(can be divided into)',\n",
       " '4grams_Topic elaboration/clarification(how to deal with)',\n",
       " '4grams_Topic elaboration/clarification(if you don’t know)',\n",
       " '4grams_Topic elaboration/clarification(if you want to)',\n",
       " '4grams_Topic elaboration/clarification(in order to make)',\n",
       " '4grams_Topic elaboration/clarification(is a kind of)',\n",
       " '4grams_Topic elaboration/clarification(is based on the)',\n",
       " '4grams_Topic elaboration/clarification(is more important than)',\n",
       " '4grams_Topic elaboration/clarification(is totally different from)',\n",
       " '4grams_Topic elaboration/clarification(it is a good)',\n",
       " '4grams_Topic elaboration/clarification(it is a very)',\n",
       " '4grams_Topic elaboration/clarification(it is also a)',\n",
       " '4grams_Topic elaboration/clarification(it is because the)',\n",
       " '4grams_Topic elaboration/clarification(it is not a)',\n",
       " '4grams_Topic elaboration/clarification(on the other hand)',\n",
       " '4grams_Topic elaboration/clarification(there will be a)',\n",
       " '4grams_Topic elaboration/clarification(to cope with the)',\n",
       " '4grams_Topic elaboration/clarification(want to be a)',\n",
       " '4grams_Topic elaboration/clarification',\n",
       " '4grams_Identification/focus(my point of view)',\n",
       " '4grams_Identification/focus(the best way to)',\n",
       " '4grams_Identification/focus(a very important role)',\n",
       " '4grams_Identification/focus(as far as the)',\n",
       " '4grams_Identification/focus(as I have mentioned)',\n",
       " '4grams_Identification/focus(him or her to)',\n",
       " '4grams_Identification/focus(is one of my)',\n",
       " '4grams_Identification/focus(is one of the)',\n",
       " '4grams_Identification/focus(is the most important)',\n",
       " '4grams_Identification/focus(is very important for)',\n",
       " '4grams_Identification/focus(it is very important)',\n",
       " '4grams_Identification/focus(one of the most)',\n",
       " '4grams_Identification/focus(the most important thing)',\n",
       " '4grams_Identification/focus(we can say that)',\n",
       " '4grams_Identification/focus(we can see that)',\n",
       " '4grams_Identification/focus(we can see the)',\n",
       " '4grams_Identification/focus',\n",
       " '4grams_Topic introduction(I am going to)',\n",
       " '4grams_Topic introduction(I would like to)',\n",
       " '4grams_Topic introduction(if there is a)',\n",
       " '4grams_Topic introduction',\n",
       " '4grams_Discourse organizers',\n",
       " '4grams_Quantifying(a great deal of)',\n",
       " '4grams_Quantifying(a great number of)',\n",
       " '4grams_Quantifying(a large amount of)',\n",
       " '4grams_Quantifying(a lot of people)',\n",
       " '4grams_Quantifying(a lot of problem)',\n",
       " '4grams_Quantifying(a lot of problems)',\n",
       " '4grams_Quantifying(a lot of time)',\n",
       " '4grams_Quantifying(all of them are)',\n",
       " '4grams_Quantifying(and a lot of)',\n",
       " '4grams_Quantifying(bring a lot of)',\n",
       " '4grams_Quantifying(has a lot of)',\n",
       " '4grams_Quantifying(more and more people)',\n",
       " '4grams_Quantifying(most of the people)',\n",
       " '4grams_Quantifying(most of them are)',\n",
       " '4grams_Quantifying(some of them are)',\n",
       " '4grams_Quantifying(that it is more)',\n",
       " '4grams_Quantifying(the rest of the)',\n",
       " '4grams_Quantifying(the rest of the world)',\n",
       " '4grams_Quantifying(there are a lot of)',\n",
       " '4grams_Quantifying(there are many people)',\n",
       " '4grams_Quantifying(there are quite a)',\n",
       " '4grams_Quantifying(there are so many)',\n",
       " '4grams_Quantifying(there are still some)',\n",
       " '4grams_Quantifying(there are too many)',\n",
       " '4grams_Quantifying(with a lot of)',\n",
       " '4grams_Quantifying',\n",
       " '4grams_Time/place/text deixis(all over the world)',\n",
       " '4grams_Time/place/text deixis(at the beginning of the)',\n",
       " '4grams_Time/place/text deixis(at the same time)',\n",
       " '4grams_Time/place/text deixis(for a long time)',\n",
       " '4grams_Time/place/text deixis(in the following paragraphs)',\n",
       " '4grams_Time/place/text deixis(the end of the)',\n",
       " '4grams_Time/place/text deixis',\n",
       " '4grams_Framing(because they are not)',\n",
       " '4grams_Framing(in such a way)',\n",
       " '4grams_Framing(in the process of)',\n",
       " '4grams_Framing(on the basis of)',\n",
       " '4grams_Framing(the main reason is)',\n",
       " '4grams_Framing(the quality of the)',\n",
       " '4grams_Framing(the reason is that)',\n",
       " '4grams_Framing(the relationship between the)',\n",
       " '4grams_Framing(the result of the)',\n",
       " '4grams_Framing(with the development of)',\n",
       " '4grams_Framing(as a result of)',\n",
       " '4grams_Framing(as the result of)',\n",
       " '4grams_Framing(the result of this)',\n",
       " '4grams_Framing',\n",
       " '4grams_Referential',\n",
       " '4grams_Epistemic(as a matter of)',\n",
       " '4grams_Epistemic(as we all know)',\n",
       " '4grams_Epistemic(become more and more)',\n",
       " '4grams_Epistemic(I think it is)',\n",
       " '4grams_Epistemic(I think that this)',\n",
       " '4grams_Epistemic(I think the most)',\n",
       " '4grams_Epistemic(I think this is)',\n",
       " '4grams_Epistemic(it is believed that)',\n",
       " '4grams_Epistemic(it is obvious that)',\n",
       " '4grams_Epistemic(it is true that)',\n",
       " '4grams_Epistemic(some people think that)',\n",
       " '4grams_Epistemic',\n",
       " '4grams_Attitudinal/modality(are not allowed to)',\n",
       " '4grams_Attitudinal/modality(I hope I can)',\n",
       " '4grams_Attitudinal/modality(is very important to)',\n",
       " '4grams_Attitudinal/modality(it is difficult to)',\n",
       " '4grams_Attitudinal/modality(it is very difficult)',\n",
       " '4grams_Attitudinal/modality(it is hard to)',\n",
       " '4grams_Attitudinal/modality(it is not easy)',\n",
       " '4grams_Attitudinal/modality(necessary for us to)',\n",
       " '4grams_Attitudinal/modality(should learn how to)',\n",
       " '4grams_Attitudinal/modality(will not be able to)',\n",
       " '4grams_Attitudinal/modality',\n",
       " '4grams_Stance',\n",
       " '4grams_all']"
      ]
     },
     "execution_count": 5,
     "metadata": {},
     "output_type": "execute_result"
    }
   ],
   "source": [
    "df.columns.tolist()"
   ]
  },
  {
   "cell_type": "code",
   "execution_count": 8,
   "metadata": {},
   "outputs": [],
   "source": [
    "sns.set(rc={'figure.figsize':(20,10)})"
   ]
  },
  {
   "cell_type": "code",
   "execution_count": 11,
   "metadata": {},
   "outputs": [
    {
     "name": "stderr",
     "output_type": "stream",
     "text": [
      "/Users/ira/Downloads/REALEC_Inspector/.venv/lib/python3.6/site-packages/ipykernel_launcher.py:4: SettingWithCopyWarning: \n",
      "A value is trying to be set on a copy of a slice from a DataFrame.\n",
      "Try using .loc[row_indexer,col_indexer] = value instead\n",
      "\n",
      "See the caveats in the documentation: http://pandas.pydata.org/pandas-docs/stable/indexing.html#indexing-view-versus-copy\n",
      "  after removing the cwd from sys.path.\n"
     ]
    },
    {
     "data": {
      "text/plain": [
       "<Figure size 1440x720 with 0 Axes>"
      ]
     },
     "metadata": {},
     "output_type": "display_data"
    }
   ],
   "source": [
    "subdf = df[['class', 'link_Addition', 'link_Adversativity',\n",
    "            'link_Cause and effect', 'link_Clarification',\n",
    "            'link_Contrast', 'link_Illustration', 'link_Intensification']]\n",
    "subdf['class'] = subdf['class'].map({'not_best': 0, 'best': 1})\n",
    "mdf = pd.melt(subdf, id_vars=['class'], var_name=['number'])\n",
    "sns_plt = sns.boxplot(x=\"class\", y=\"value\", hue=\"number\", data=mdf, palette=\"Set2\") \n",
    "sns_plt.figure.savefig('/Users/ira/Downloads/REALEC_Inspector/graphs/links.png')\n",
    "plt.clf()"
   ]
  },
  {
   "cell_type": "code",
   "execution_count": 12,
   "metadata": {},
   "outputs": [
    {
     "name": "stderr",
     "output_type": "stream",
     "text": [
      "/Users/ira/Downloads/REALEC_Inspector/.venv/lib/python3.6/site-packages/ipykernel_launcher.py:3: SettingWithCopyWarning: \n",
      "A value is trying to be set on a copy of a slice from a DataFrame.\n",
      "Try using .loc[row_indexer,col_indexer] = value instead\n",
      "\n",
      "See the caveats in the documentation: http://pandas.pydata.org/pandas-docs/stable/indexing.html#indexing-view-versus-copy\n",
      "  This is separate from the ipykernel package so we can avoid doing imports until\n"
     ]
    },
    {
     "data": {
      "text/plain": [
       "<Figure size 1440x720 with 0 Axes>"
      ]
     },
     "metadata": {},
     "output_type": "display_data"
    }
   ],
   "source": [
    "subdf = df[['class', '4grams_Discourse organizers', '4grams_Referential',\n",
    "            '4grams_Stance']]\n",
    "subdf['class'] = subdf['class'].map({'not_best': 0, 'best': 1})\n",
    "mdf = pd.melt(subdf, id_vars=['class'], var_name=['number'])\n",
    "sns_plt = sns.boxplot(x=\"class\", y=\"value\", hue=\"number\", data=mdf, palette=\"Set2\") \n",
    "sns_plt.figure.savefig('/Users/ira/Downloads/REALEC_Inspector/graphs/4grams.png')\n",
    "plt.clf()"
   ]
  },
  {
   "cell_type": "code",
   "execution_count": null,
   "metadata": {},
   "outputs": [],
   "source": []
  }
 ],
 "metadata": {
  "kernelspec": {
   "display_name": "realec",
   "language": "python",
   "name": "realec"
  },
  "language_info": {
   "codemirror_mode": {
    "name": "ipython",
    "version": 3
   },
   "file_extension": ".py",
   "mimetype": "text/x-python",
   "name": "python",
   "nbconvert_exporter": "python",
   "pygments_lexer": "ipython3",
   "version": "3.6.8"
  }
 },
 "nbformat": 4,
 "nbformat_minor": 2
}
