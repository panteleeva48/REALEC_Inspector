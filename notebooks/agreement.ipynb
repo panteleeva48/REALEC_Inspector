{
 "cells": [
  {
   "cell_type": "code",
   "execution_count": 41,
   "metadata": {},
   "outputs": [],
   "source": [
    "from sklearn.metrics import cohen_kappa_score\n",
    "import pandas as pd\n",
    "import re"
   ]
  },
  {
   "cell_type": "markdown",
   "metadata": {},
   "source": [
    "# Annotation agreement"
   ]
  },
  {
   "cell_type": "code",
   "execution_count": 2,
   "metadata": {},
   "outputs": [
    {
     "data": {
      "text/html": [
       "<div>\n",
       "<style scoped>\n",
       "    .dataframe tbody tr th:only-of-type {\n",
       "        vertical-align: middle;\n",
       "    }\n",
       "\n",
       "    .dataframe tbody tr th {\n",
       "        vertical-align: top;\n",
       "    }\n",
       "\n",
       "    .dataframe thead th {\n",
       "        text-align: right;\n",
       "    }\n",
       "</style>\n",
       "<table border=\"1\" class=\"dataframe\">\n",
       "  <thead>\n",
       "    <tr style=\"text-align: right;\">\n",
       "      <th></th>\n",
       "      <th>realec_group</th>\n",
       "      <th>my_group</th>\n",
       "    </tr>\n",
       "  </thead>\n",
       "  <tbody>\n",
       "    <tr>\n",
       "      <th>0</th>\n",
       "      <td>spelling</td>\n",
       "      <td>spelling</td>\n",
       "    </tr>\n",
       "    <tr>\n",
       "      <th>1</th>\n",
       "      <td>spelling</td>\n",
       "      <td>-</td>\n",
       "    </tr>\n",
       "    <tr>\n",
       "      <th>2</th>\n",
       "      <td>spelling</td>\n",
       "      <td>word_choice</td>\n",
       "    </tr>\n",
       "    <tr>\n",
       "      <th>3</th>\n",
       "      <td>spelling</td>\n",
       "      <td>word_choice</td>\n",
       "    </tr>\n",
       "    <tr>\n",
       "      <th>4</th>\n",
       "      <td>spelling</td>\n",
       "      <td>word_choice</td>\n",
       "    </tr>\n",
       "  </tbody>\n",
       "</table>\n",
       "</div>"
      ],
      "text/plain": [
       "  realec_group     my_group\n",
       "0     spelling     spelling\n",
       "1     spelling            -\n",
       "2     spelling  word_choice\n",
       "3     spelling  word_choice\n",
       "4     spelling  word_choice"
      ]
     },
     "execution_count": 2,
     "metadata": {},
     "output_type": "execute_result"
    }
   ],
   "source": [
    "df = pd.read_csv('/Users/ira/Downloads/REALEC_Inspector/data/agreement_data_mistakes.csv')\n",
    "df.head()"
   ]
  },
  {
   "cell_type": "code",
   "execution_count": 3,
   "metadata": {},
   "outputs": [],
   "source": [
    "realec = df['realec_group'].to_list()\n",
    "my = df['my_group'].to_list()"
   ]
  },
  {
   "cell_type": "code",
   "execution_count": 4,
   "metadata": {},
   "outputs": [
    {
     "data": {
      "text/plain": [
       "0.437891077636153"
      ]
     },
     "execution_count": 4,
     "metadata": {},
     "output_type": "execute_result"
    }
   ],
   "source": [
    "cohen_kappa_score(realec, my)"
   ]
  },
  {
   "cell_type": "code",
   "execution_count": 5,
   "metadata": {},
   "outputs": [],
   "source": [
    "df_my_group = df[df['my_group'] != '-']"
   ]
  },
  {
   "cell_type": "code",
   "execution_count": 6,
   "metadata": {},
   "outputs": [
    {
     "data": {
      "text/plain": [
       "word_choice            30.379747\n",
       "absence/redundant      13.924051\n",
       "spelling               10.126582\n",
       "verb                    8.860759\n",
       "relative_clause         8.860759\n",
       "discource               7.594937\n",
       "standard_word_order     7.594937\n",
       "parallel                2.531646\n",
       "tense_choice            2.531646\n",
       "prepositions            1.265823\n",
       "degree                  1.265823\n",
       "punctuation             1.265823\n",
       "noun_number             1.265823\n",
       "agreement               1.265823\n",
       "numeral                 1.265823\n",
       "Name: my_group, dtype: float64"
      ]
     },
     "execution_count": 6,
     "metadata": {},
     "output_type": "execute_result"
    }
   ],
   "source": [
    "df_my_group['my_group'].value_counts(normalize=True) * 100"
   ]
  },
  {
   "cell_type": "markdown",
   "metadata": {},
   "source": [
    "# Grades agreement"
   ]
  },
  {
   "cell_type": "code",
   "execution_count": 26,
   "metadata": {},
   "outputs": [
    {
     "data": {
      "text/html": [
       "<div>\n",
       "<style scoped>\n",
       "    .dataframe tbody tr th:only-of-type {\n",
       "        vertical-align: middle;\n",
       "    }\n",
       "\n",
       "    .dataframe tbody tr th {\n",
       "        vertical-align: top;\n",
       "    }\n",
       "\n",
       "    .dataframe thead th {\n",
       "        text-align: right;\n",
       "    }\n",
       "</style>\n",
       "<table border=\"1\" class=\"dataframe\">\n",
       "  <thead>\n",
       "    <tr style=\"text-align: right;\">\n",
       "      <th></th>\n",
       "      <th>name</th>\n",
       "      <th>grade</th>\n",
       "    </tr>\n",
       "  </thead>\n",
       "  <tbody>\n",
       "    <tr>\n",
       "      <th>0</th>\n",
       "      <td>AAliutova_2_2</td>\n",
       "      <td>7</td>\n",
       "    </tr>\n",
       "    <tr>\n",
       "      <th>1</th>\n",
       "      <td>AAliutova_13_1</td>\n",
       "      <td>8</td>\n",
       "    </tr>\n",
       "    <tr>\n",
       "      <th>2</th>\n",
       "      <td>AAliutova_13_2</td>\n",
       "      <td>9</td>\n",
       "    </tr>\n",
       "    <tr>\n",
       "      <th>3</th>\n",
       "      <td>AAliutova_26_2</td>\n",
       "      <td>7</td>\n",
       "    </tr>\n",
       "    <tr>\n",
       "      <th>4</th>\n",
       "      <td>AAliutova_27_1</td>\n",
       "      <td>7</td>\n",
       "    </tr>\n",
       "  </tbody>\n",
       "</table>\n",
       "</div>"
      ],
      "text/plain": [
       "             name  grade\n",
       "0   AAliutova_2_2      7\n",
       "1  AAliutova_13_1      8\n",
       "2  AAliutova_13_2      9\n",
       "3  AAliutova_26_2      7\n",
       "4  AAliutova_27_1      7"
      ]
     },
     "execution_count": 26,
     "metadata": {},
     "output_type": "execute_result"
    }
   ],
   "source": [
    "df_oi_grades = pd.read_csv('/Users/ira/Downloads/REALEC_Inspector/data/grades_OI.csv',\n",
    "                           sep=';', names=['name', 'grade'])\n",
    "df_oi_grades.head()"
   ]
  },
  {
   "cell_type": "code",
   "execution_count": 27,
   "metadata": {},
   "outputs": [
    {
     "data": {
      "text/html": [
       "<div>\n",
       "<style scoped>\n",
       "    .dataframe tbody tr th:only-of-type {\n",
       "        vertical-align: middle;\n",
       "    }\n",
       "\n",
       "    .dataframe tbody tr th {\n",
       "        vertical-align: top;\n",
       "    }\n",
       "\n",
       "    .dataframe thead th {\n",
       "        text-align: right;\n",
       "    }\n",
       "</style>\n",
       "<table border=\"1\" class=\"dataframe\">\n",
       "  <thead>\n",
       "    <tr style=\"text-align: right;\">\n",
       "      <th></th>\n",
       "      <th>old</th>\n",
       "      <th>new</th>\n",
       "    </tr>\n",
       "  </thead>\n",
       "  <tbody>\n",
       "    <tr>\n",
       "      <th>0</th>\n",
       "      <td>Degtyar_1_2.ann</td>\n",
       "      <td>ADe_1_2.ann</td>\n",
       "    </tr>\n",
       "    <tr>\n",
       "      <th>1</th>\n",
       "      <td>INaumov_51_1.ann</td>\n",
       "      <td>INa_51_1.ann</td>\n",
       "    </tr>\n",
       "    <tr>\n",
       "      <th>2</th>\n",
       "      <td>Polyanskaya_19_2.ann</td>\n",
       "      <td>LPo_19_2.ann</td>\n",
       "    </tr>\n",
       "    <tr>\n",
       "      <th>3</th>\n",
       "      <td>AStepanova_33_2.ann</td>\n",
       "      <td>ASt_33_2.ann</td>\n",
       "    </tr>\n",
       "    <tr>\n",
       "      <th>4</th>\n",
       "      <td>Zakharova_95_1.ann</td>\n",
       "      <td>EZa_95_1.ann</td>\n",
       "    </tr>\n",
       "  </tbody>\n",
       "</table>\n",
       "</div>"
      ],
      "text/plain": [
       "                    old           new\n",
       "0       Degtyar_1_2.ann   ADe_1_2.ann\n",
       "1      INaumov_51_1.ann  INa_51_1.ann\n",
       "2  Polyanskaya_19_2.ann  LPo_19_2.ann\n",
       "3   AStepanova_33_2.ann  ASt_33_2.ann\n",
       "4    Zakharova_95_1.ann  EZa_95_1.ann"
      ]
     },
     "execution_count": 27,
     "metadata": {},
     "output_type": "execute_result"
    }
   ],
   "source": [
    "df_names = pd.read_csv('/Users/ira/Downloads/REALEC_Inspector/data/new_filenames.csv',\n",
    "                 sep=';', names=['old', 'new'])\n",
    "df_names.head()"
   ]
  },
  {
   "cell_type": "code",
   "execution_count": 34,
   "metadata": {},
   "outputs": [
    {
     "data": {
      "text/html": [
       "<div>\n",
       "<style scoped>\n",
       "    .dataframe tbody tr th:only-of-type {\n",
       "        vertical-align: middle;\n",
       "    }\n",
       "\n",
       "    .dataframe tbody tr th {\n",
       "        vertical-align: top;\n",
       "    }\n",
       "\n",
       "    .dataframe thead th {\n",
       "        text-align: right;\n",
       "    }\n",
       "</style>\n",
       "<table border=\"1\" class=\"dataframe\">\n",
       "  <thead>\n",
       "    <tr style=\"text-align: right;\">\n",
       "      <th></th>\n",
       "      <th>name</th>\n",
       "      <th>class</th>\n",
       "    </tr>\n",
       "  </thead>\n",
       "  <tbody>\n",
       "    <tr>\n",
       "      <th>0</th>\n",
       "      <td>./data/exam/exam2017/OBy_146_1</td>\n",
       "      <td>6</td>\n",
       "    </tr>\n",
       "    <tr>\n",
       "      <th>1</th>\n",
       "      <td>./data/exam/exam2017/EGe_15_1</td>\n",
       "      <td>6</td>\n",
       "    </tr>\n",
       "    <tr>\n",
       "      <th>2</th>\n",
       "      <td>./data/exam/exam2017/DOv_2_2</td>\n",
       "      <td>6</td>\n",
       "    </tr>\n",
       "    <tr>\n",
       "      <th>3</th>\n",
       "      <td>./data/exam/exam2017/EGe_61_2</td>\n",
       "      <td>6</td>\n",
       "    </tr>\n",
       "    <tr>\n",
       "      <th>4</th>\n",
       "      <td>./data/exam/exam2017/NMya_48_1</td>\n",
       "      <td>6</td>\n",
       "    </tr>\n",
       "  </tbody>\n",
       "</table>\n",
       "</div>"
      ],
      "text/plain": [
       "                             name  class\n",
       "0  ./data/exam/exam2017/OBy_146_1      6\n",
       "1   ./data/exam/exam2017/EGe_15_1      6\n",
       "2    ./data/exam/exam2017/DOv_2_2      6\n",
       "3   ./data/exam/exam2017/EGe_61_2      6\n",
       "4  ./data/exam/exam2017/NMya_48_1      6"
      ]
     },
     "execution_count": 34,
     "metadata": {},
     "output_type": "execute_result"
    }
   ],
   "source": [
    "df_my = pd.read_csv('/Users/ira/Downloads/REALEC_Inspector/results/feature_result.csv')\n",
    "df_my = df_my[['name', 'class']]\n",
    "df_my['class'] = round(df_my['class'] / 10).astype(int)\n",
    "df_my = df_my[df_my['class'] != 1]\n",
    "df_my.head()"
   ]
  },
  {
   "cell_type": "code",
   "execution_count": 54,
   "metadata": {},
   "outputs": [
    {
     "name": "stdout",
     "output_type": "stream",
     "text": [
      "AAl_2_2 7 7\n",
      "AAl_13_1 8 8\n",
      "AAl_13_2 9 8\n",
      "AAl_26_2 7 7\n",
      "AAl_27_1 7 7\n",
      "VKo_2_2 7 7\n",
      "VKo_5_2 8 8\n",
      "VKo_9_2 7 7\n",
      "VKo_12_2 8 7\n",
      "VKo_29_2 7 7\n",
      "ZEv_3_2 7 8\n",
      "EEm_14_1 8 7\n",
      "EEm_14_2 8 7\n",
      "EEm_16_2 7 7\n",
      "MTsy_6_2 7 6\n",
      "KKo_9_1 7 7\n",
      "VKo_8_1 6 4\n",
      "VKo_19_1 4 4\n",
      "VKo_22_1 3 4\n",
      "VKo_32_2 3 4\n",
      "ZEv_28_1 4 4\n",
      "ZEv_28_2 3 6\n",
      "EEm_28_1 5 4\n",
      "EEm_28_2 3 4\n",
      "DZu_40_1 6 4\n",
      "DZu_40_2 2 4\n",
      "KKo_18_1 4 4\n",
      "LPo_8_1 4 4\n",
      "ASt_34_1 8 7\n"
     ]
    }
   ],
   "source": [
    "OI_grades = []\n",
    "MY_grades = []\n",
    "for old_name in df_oi_grades['name']:\n",
    "    try:\n",
    "        new_name = df_names[df_names['old'].str.contains(old_name)]['new'].iloc[0]\n",
    "        new_name = re.sub(r'\\..+', '', new_name)\n",
    "        mark_oi = df_oi_grades[df_oi_grades['name'].str.contains(old_name)]['grade'].iloc[0]\n",
    "    except:\n",
    "        new_name = None\n",
    "    if new_name and mark_oi:\n",
    "        try:\n",
    "            grade_my = df_my[df_my['name'].str.contains(new_name)]['class'].iloc[0]\n",
    "        except:\n",
    "            grade_my = None\n",
    "        if grade_my:\n",
    "            OI_grades.append(mark_oi)\n",
    "            MY_grades.append(grade_my)\n",
    "            print(new_name, mark_oi, grade_my)"
   ]
  },
  {
   "cell_type": "code",
   "execution_count": 55,
   "metadata": {},
   "outputs": [
    {
     "data": {
      "text/plain": [
       "0.32973805855161786"
      ]
     },
     "execution_count": 55,
     "metadata": {},
     "output_type": "execute_result"
    }
   ],
   "source": [
    "cohen_kappa_score(OI_grades, MY_grades)"
   ]
  },
  {
   "cell_type": "code",
   "execution_count": 56,
   "metadata": {},
   "outputs": [],
   "source": [
    "_OI_grades = []\n",
    "_MY_grades = []\n",
    "for t in OI_grades:\n",
    "    if int(t) >= 7:\n",
    "        _OI_grades.append('best')\n",
    "    else:\n",
    "        _OI_grades.append('non-best')\n",
    "for t in MY_grades:\n",
    "    if int(t) >= 7:\n",
    "        _MY_grades.append('best')\n",
    "    else:\n",
    "        _MY_grades.append('non-best')"
   ]
  },
  {
   "cell_type": "code",
   "execution_count": 57,
   "metadata": {},
   "outputs": [
    {
     "data": {
      "text/plain": [
       "0.9297820823244553"
      ]
     },
     "execution_count": 57,
     "metadata": {},
     "output_type": "execute_result"
    }
   ],
   "source": [
    "cohen_kappa_score(_OI_grades, _MY_grades)"
   ]
  },
  {
   "cell_type": "code",
   "execution_count": null,
   "metadata": {},
   "outputs": [],
   "source": [
    "0.93"
   ]
  }
 ],
 "metadata": {
  "kernelspec": {
   "display_name": "realec",
   "language": "python",
   "name": "realec"
  },
  "language_info": {
   "codemirror_mode": {
    "name": "ipython",
    "version": 3
   },
   "file_extension": ".py",
   "mimetype": "text/x-python",
   "name": "python",
   "nbconvert_exporter": "python",
   "pygments_lexer": "ipython3",
   "version": "3.6.8"
  }
 },
 "nbformat": 4,
 "nbformat_minor": 2
}
